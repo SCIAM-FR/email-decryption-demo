{
 "cells": [
  {
   "cell_type": "markdown",
   "metadata": {},
   "source": [
    "# Vérification de signature d'emails avec Python\n",
    "Dans cette Tech Review, nous présentons les différentes solutions étudiées pour vérifier des\n",
    "emails signés avec Python.  "
   ]
  },
  {
   "cell_type": "markdown",
   "metadata": {},
   "source": [
    "## Import des librairies\n"
   ]
  },
  {
   "cell_type": "code",
   "execution_count": 2,
   "metadata": {},
   "outputs": [],
   "source": [
    "import email\n",
    "import subprocess\n",
    "from pprint import pprint\n",
    "\n",
    "from asn1crypto import cms\n",
    "from cryptography.hazmat.bindings._rust import test_support\n",
    "from cryptography.hazmat.primitives import hashes\n",
    "from cryptography.hazmat.primitives.asymmetric import padding\n",
    "from cryptography.hazmat.primitives.asymmetric.ec import ECDSA, EllipticCurvePublicKey\n",
    "from cryptography.hazmat.primitives.asymmetric.rsa import RSAPublicKey\n",
    "from cryptography.hazmat.primitives.serialization import Encoding, load_pem_private_key\n",
    "from cryptography.hazmat.primitives.serialization.pkcs7 import (\n",
    "    PKCS7Options,\n",
    "    PKCS7SignatureBuilder,\n",
    ")\n",
    "from cryptography.x509 import load_pem_x509_certificate\n",
    "from cryptography.x509.verification import PolicyBuilder, Store\n",
    "from endesive import email as endesive_email"
   ]
  },
  {
   "cell_type": "markdown",
   "metadata": {},
   "source": [
    "## Lecture du certificat X.509"
   ]
  },
  {
   "cell_type": "code",
   "execution_count": 3,
   "metadata": {},
   "outputs": [
    {
     "data": {
      "text/plain": [
       "cryptography.hazmat.bindings._rust.x509.Certificate"
      ]
     },
     "execution_count": 3,
     "metadata": {},
     "output_type": "execute_result"
    }
   ],
   "source": [
    "# Clé publique : certificat RSA\n",
    "with open(\"vectors/verify/ca.pem\", \"rb\") as file:\n",
    "    certificate_bytes = file.read()\n",
    "    \n",
    "certificate = load_pem_x509_certificate(certificate_bytes)"
   ]
  },
  {
   "cell_type": "code",
   "execution_count": 4,
   "metadata": {},
   "outputs": [
    {
     "name": "stdout",
     "output_type": "stream",
     "text": [
      "Type: <class 'cryptography.hazmat.bindings._rust.openssl.rsa.RSAPublicKey'>\n"
     ]
    }
   ],
   "source": [
    "# Clé publique du certificat\n",
    "public_key = certificate.public_key()\n",
    "print(\"Type:\", type(public_key))"
   ]
  },
  {
   "cell_type": "code",
   "execution_count": 5,
   "metadata": {},
   "outputs": [],
   "source": [
    "# Chaîne de certification utilisée\n",
    "# Clé publique : certificat RSA\n",
    "with open(\"vectors/verify/ca_chain.pem\", \"rb\") as file:\n",
    "    certificate_chain_bytes = file.read()\n",
    "    \n",
    "certificate_chain = load_pem_x509_certificate(certificate_chain_bytes)"
   ]
  },
  {
   "cell_type": "code",
   "execution_count": 6,
   "metadata": {},
   "outputs": [
    {
     "name": "stdout",
     "output_type": "stream",
     "text": [
      "Type: <class 'cryptography.hazmat.bindings._rust.openssl.rsa.RSAPrivateKey'>\n"
     ]
    }
   ],
   "source": [
    "# Clé privée : RSA\n",
    "with open(\"vectors/verify/ca_key.pem\", \"rb\") as file:\n",
    "    private_key = load_pem_private_key(file.read(), password=None)\n",
    "print(\"Type:\", type(private_key))"
   ]
  },
  {
   "cell_type": "markdown",
   "metadata": {},
   "source": [
    "## Signature d'un email"
   ]
  },
  {
   "cell_type": "code",
   "execution_count": 7,
   "metadata": {},
   "outputs": [],
   "source": [
    "# Écriture d'un message non-chiffré\n",
    "# message = b\"Hello world!\\n\"\n",
    "message = b\"Hello world!\"\n",
    "canonical_message = b\"Content-Type: text/plain\\r\\n\\r\\n\" + message\n",
    "with open(\"vectors/message.txt\", \"wb\") as file:\n",
    "    file.write(message)\n",
    "with open(\"vectors/canonical_message.txt\", \"wb\") as file:\n",
    "    file.write(canonical_message)"
   ]
  },
  {
   "cell_type": "markdown",
   "metadata": {},
   "source": [
    "### Avec `openssl`"
   ]
  },
  {
   "cell_type": "code",
   "execution_count": 11,
   "metadata": {},
   "outputs": [
    {
     "data": {
      "text/plain": [
       "b''"
      ]
     },
     "execution_count": 11,
     "metadata": {},
     "output_type": "execute_result"
    }
   ],
   "source": [
    "# SMIME : ancienne version\n",
    "instructions = [\n",
    "    \"openssl\",\n",
    "    \"smime\",  # on peut utiliser smime ou cms\n",
    "    \"-sign\",\n",
    "    \"-in\",\n",
    "    \"vectors/message.txt\",\n",
    "    \"-out\",\n",
    "    \"vectors/verify/signed.txt\",\n",
    "    \"-signer\",\n",
    "    \"vectors/verify/ca.pem\",\n",
    "    \"-inkey\",\n",
    "    \"vectors/verify/ca_key.pem\",\n",
    "    # \"-md\",  # optionnel\n",
    "    # \"-sha512\",  # optionnel\n",
    "    # \"-noattr\",  # optionnel\n",
    "    # \"-text\",  # optionnel\n",
    "]\n",
    "smime_encryption_result = subprocess.run(instructions, capture_output=True)\n",
    "smime_encryption_result.stderr"
   ]
  },
  {
   "cell_type": "code",
   "execution_count": 14,
   "metadata": {},
   "outputs": [
    {
     "data": {
      "text/plain": [
       "b''"
      ]
     },
     "execution_count": 14,
     "metadata": {},
     "output_type": "execute_result"
    }
   ],
   "source": [
    "# Signature\n",
    "instructions = [\n",
    "    \"openssl\",\n",
    "    \"smime\",  # on peut utiliser smime ou cms\n",
    "    \"-sign\",\n",
    "    \"-in\",\n",
    "    \"vectors/message.txt\",\n",
    "    \"-out\",\n",
    "    \"vectors/verify/signature.der\",\n",
    "    \"-outform\",\n",
    "    \"DER\",\n",
    "    \"-signer\",\n",
    "    \"vectors/verify/ca.pem\",\n",
    "    \"-inkey\",\n",
    "    \"vectors/verify/ca_key.pem\",\n",
    "    # \"-md\",  # optionnel\n",
    "    # \"-sha512\",  # optionnel\n",
    "    # \"-noattr\",  # optionnel\n",
    "    # \"-text\",  # optionnel\n",
    "]\n",
    "smime_encryption_result = subprocess.run(instructions, capture_output=True)\n",
    "smime_encryption_result.stderr"
   ]
  },
  {
   "cell_type": "code",
   "execution_count": 15,
   "metadata": {},
   "outputs": [],
   "source": [
    "with open(\"vectors/verify/signed.txt\", \"rb\") as file:\n",
    "    signed = file.read()\n",
    "with open(\"vectors/verify/signature.der\", \"rb\") as file:\n",
    "    signature = file.read()"
   ]
  },
  {
   "cell_type": "markdown",
   "metadata": {},
   "source": [
    "### Avec `cryptography`\n",
    "Les fonctionnalités de chiffrage d'email sont disponibles dans la librairie `cryptography` depuis\n",
    "début 2024. "
   ]
  },
  {
   "cell_type": "code",
   "execution_count": 16,
   "metadata": {},
   "outputs": [],
   "source": [
    "# Prepare the envelope builder\n",
    "builder = PKCS7SignatureBuilder()\n",
    "builder = builder.add_signer(certificate, private_key, hashes.SHA256())\n",
    "builder = builder.set_data(message)\n",
    "\n",
    "# Encrypt the data\n",
    "options = [\n",
    "    # PKCS7Options.DetachedSignature,\n",
    "    # PKCS7Options.NoAttributes,\n",
    "    # PKCS7Options.Text,\n",
    "    # PKCS7Options.NoCerts,\n",
    "]\n",
    "signed = builder.sign(Encoding.SMIME, options)\n",
    "signature = builder.sign(Encoding.DER, options)"
   ]
  },
  {
   "cell_type": "code",
   "execution_count": 17,
   "metadata": {},
   "outputs": [],
   "source": [
    "# Store the data in vectors\n",
    "with open(\"vectors/verify/signed.txt\", \"wb\") as file:\n",
    "    file.write(signed)\n",
    "with open(\"vectors/verify/signature.der\", \"wb\") as file:\n",
    "    file.write(signature)"
   ]
  },
  {
   "cell_type": "markdown",
   "metadata": {},
   "source": [
    "## Solutions abordées"
   ]
  },
  {
   "cell_type": "markdown",
   "metadata": {},
   "source": [
    "### Solution 1: avec `openssl`"
   ]
  },
  {
   "cell_type": "markdown",
   "metadata": {},
   "source": [
    "#### Structure ASN.1"
   ]
  },
  {
   "cell_type": "code",
   "execution_count": 18,
   "metadata": {},
   "outputs": [
    {
     "name": "stdout",
     "output_type": "stream",
     "text": [
      "    0:d=0  hl=4 l=1591 cons: SEQUENCE          \n",
      "    4:d=1  hl=2 l=   9 prim: OBJECT            :pkcs7-signedData\n",
      "   15:d=1  hl=4 l=1576 cons: cont [ 0 ]        \n",
      "   19:d=2  hl=4 l=1572 cons: SEQUENCE          \n",
      "   23:d=3  hl=2 l=   1 prim: INTEGER           :01\n",
      "   26:d=3  hl=2 l=  15 cons: SET               \n",
      "   28:d=4  hl=2 l=  13 cons: SEQUENCE          \n",
      "   30:d=5  hl=2 l=   9 prim: OBJECT            :sha256\n",
      "   41:d=5  hl=2 l=   0 prim: NULL              \n",
      "   43:d=3  hl=2 l=  27 cons: SEQUENCE          \n",
      "   45:d=4  hl=2 l=   9 prim: OBJECT            :pkcs7-data\n",
      "   56:d=4  hl=2 l=  14 cons: cont [ 0 ]        \n",
      "   58:d=5  hl=2 l=  12 prim: OCTET STRING      :Hello world!\n",
      "   72:d=3  hl=4 l=1019 cons: cont [ 0 ]        \n",
      "   76:d=4  hl=4 l=1015 cons: SEQUENCE          \n",
      "   80:d=5  hl=4 l= 735 cons: SEQUENCE          \n",
      "   84:d=6  hl=2 l=   3 cons: cont [ 0 ]        \n",
      "   86:d=7  hl=2 l=   1 prim: INTEGER           :02\n",
      "   89:d=6  hl=2 l=  16 prim: INTEGER           :231300F978724BD3AED2A01CD333F255\n",
      "  107:d=6  hl=2 l=  13 cons: SEQUENCE          \n",
      "  109:d=7  hl=2 l=   9 prim: OBJECT            :sha256WithRSAEncryption\n",
      "  120:d=7  hl=2 l=   0 prim: NULL              \n",
      "  122:d=6  hl=2 l=  13 cons: SEQUENCE          \n",
      "  124:d=7  hl=2 l=  11 cons: SET               \n",
      "  126:d=8  hl=2 l=   9 cons: SEQUENCE          \n",
      "  128:d=9  hl=2 l=   3 prim: OBJECT            :commonName\n",
      "  133:d=9  hl=2 l=   2 prim: UTF8STRING        :CA\n",
      "  137:d=6  hl=2 l=  30 cons: SEQUENCE          \n",
      "  139:d=7  hl=2 l=  13 prim: UTCTIME           :250105104828Z\n",
      "  154:d=7  hl=2 l=  13 prim: UTCTIME           :260105104828Z\n",
      "  169:d=6  hl=2 l=  37 cons: SEQUENCE          \n",
      "  171:d=7  hl=2 l=  35 cons: SET               \n",
      "  173:d=8  hl=2 l=  33 cons: SEQUENCE          \n",
      "  175:d=9  hl=2 l=   9 prim: OBJECT            :emailAddress\n",
      "  186:d=9  hl=2 l=  20 prim: IA5STRING         :demo1@trisoft.com.pl\n",
      "  208:d=6  hl=4 l= 290 cons: SEQUENCE          \n",
      "  212:d=7  hl=2 l=  13 cons: SEQUENCE          \n",
      "  214:d=8  hl=2 l=   9 prim: OBJECT            :rsaEncryption\n",
      "  225:d=8  hl=2 l=   0 prim: NULL              \n",
      "  227:d=7  hl=4 l= 271 prim: BIT STRING        \n",
      "  502:d=6  hl=4 l= 313 cons: cont [ 3 ]        \n",
      "  506:d=7  hl=4 l= 309 cons: SEQUENCE          \n",
      "  510:d=8  hl=2 l=  12 cons: SEQUENCE          \n",
      "  512:d=9  hl=2 l=   3 prim: OBJECT            :X509v3 Basic Constraints\n",
      "  517:d=9  hl=2 l=   1 prim: BOOLEAN           :255\n",
      "  520:d=9  hl=2 l=   2 prim: OCTET STRING      [HEX DUMP]:3000\n",
      "  524:d=8  hl=2 l=  31 cons: SEQUENCE          \n",
      "  526:d=9  hl=2 l=   3 prim: OBJECT            :X509v3 Authority Key Identifier\n",
      "  531:d=9  hl=2 l=  24 prim: OCTET STRING      [HEX DUMP]:301680141DB94CBBCEABFACF7BA4E1F25E89FA214A7B43D9\n",
      "  557:d=8  hl=2 l=  45 cons: SEQUENCE          \n",
      "  559:d=9  hl=2 l=   3 prim: OBJECT            :X509v3 CRL Distribution Points\n",
      "  564:d=9  hl=2 l=  38 prim: OCTET STRING      [HEX DUMP]:30243022A020A01E861C687474703A2F2F63612E747269736F66742E636F6D2E706C2F63726C\n",
      "  604:d=8  hl=2 l= 102 cons: SEQUENCE          \n",
      "  606:d=9  hl=2 l=   8 prim: OBJECT            :Authority Information Access\n",
      "  616:d=9  hl=2 l=  90 prim: OCTET STRING      [HEX DUMP]:3058302B06082B06010505073002861F687474703A2F2F63612E747269736F66742E636F6D2E706C2F636163657274302906082B06010505073001861D687474703A2F2F63612E747269736F66742E636F6D2E706C2F6F637370\n",
      "  708:d=8  hl=2 l=  31 cons: SEQUENCE          \n",
      "  710:d=9  hl=2 l=   3 prim: OBJECT            :X509v3 Subject Alternative Name\n",
      "  715:d=9  hl=2 l=  24 prim: OCTET STRING      [HEX DUMP]:3016811464656D6F3140747269736F66742E636F6D2E706C\n",
      "  741:d=8  hl=2 l=  29 cons: SEQUENCE          \n",
      "  743:d=9  hl=2 l=   3 prim: OBJECT            :X509v3 Extended Key Usage\n",
      "  748:d=9  hl=2 l=  22 prim: OCTET STRING      [HEX DUMP]:301406082B0601050507030206082B06010505070304\n",
      "  772:d=8  hl=2 l=  29 cons: SEQUENCE          \n",
      "  774:d=9  hl=2 l=   3 prim: OBJECT            :X509v3 Subject Key Identifier\n",
      "  779:d=9  hl=2 l=  22 prim: OCTET STRING      [HEX DUMP]:0414F4FD0143157FC208CB17DF9E86226896C0F6318C\n",
      "  803:d=8  hl=2 l=  14 cons: SEQUENCE          \n",
      "  805:d=9  hl=2 l=   3 prim: OBJECT            :X509v3 Key Usage\n",
      "  810:d=9  hl=2 l=   1 prim: BOOLEAN           :255\n",
      "  813:d=9  hl=2 l=   4 prim: OCTET STRING      [HEX DUMP]:030203E8\n",
      "  819:d=5  hl=2 l=  13 cons: SEQUENCE          \n",
      "  821:d=6  hl=2 l=   9 prim: OBJECT            :sha256WithRSAEncryption\n",
      "  832:d=6  hl=2 l=   0 prim: NULL              \n",
      "  834:d=5  hl=4 l= 257 prim: BIT STRING        \n",
      " 1095:d=3  hl=4 l= 496 cons: SET               \n",
      " 1099:d=4  hl=4 l= 492 cons: SEQUENCE          \n",
      " 1103:d=5  hl=2 l=   1 prim: INTEGER           :01\n",
      " 1106:d=5  hl=2 l=  33 cons: SEQUENCE          \n",
      " 1108:d=6  hl=2 l=  13 cons: SEQUENCE          \n",
      " 1110:d=7  hl=2 l=  11 cons: SET               \n",
      " 1112:d=8  hl=2 l=   9 cons: SEQUENCE          \n",
      " 1114:d=9  hl=2 l=   3 prim: OBJECT            :commonName\n",
      " 1119:d=9  hl=2 l=   2 prim: UTF8STRING        :CA\n",
      " 1123:d=6  hl=2 l=  16 prim: INTEGER           :231300F978724BD3AED2A01CD333F255\n",
      " 1141:d=5  hl=2 l=  13 cons: SEQUENCE          \n",
      " 1143:d=6  hl=2 l=   9 prim: OBJECT            :sha256\n",
      " 1154:d=6  hl=2 l=   0 prim: NULL              \n",
      " 1156:d=5  hl=3 l= 161 cons: cont [ 0 ]        \n",
      " 1159:d=6  hl=2 l=  24 cons: SEQUENCE          \n",
      " 1161:d=7  hl=2 l=   9 prim: OBJECT            :contentType\n",
      " 1172:d=7  hl=2 l=  11 cons: SET               \n",
      " 1174:d=8  hl=2 l=   9 prim: OBJECT            :pkcs7-data\n",
      " 1185:d=6  hl=2 l=  28 cons: SEQUENCE          \n",
      " 1187:d=7  hl=2 l=   9 prim: OBJECT            :signingTime\n",
      " 1198:d=7  hl=2 l=  15 cons: SET               \n",
      " 1200:d=8  hl=2 l=  13 prim: UTCTIME           :250115101820Z\n",
      " 1215:d=6  hl=2 l=  47 cons: SEQUENCE          \n",
      " 1217:d=7  hl=2 l=   9 prim: OBJECT            :messageDigest\n",
      " 1228:d=7  hl=2 l=  34 cons: SET               \n",
      " 1230:d=8  hl=2 l=  32 prim: OCTET STRING      [HEX DUMP]:C0535E4BE2B79FFD93291305436BF889314E4A3FAEC05ECFFCBB7DF31AD9E51A\n",
      " 1264:d=6  hl=2 l=  54 cons: SEQUENCE          \n",
      " 1266:d=7  hl=2 l=   9 prim: OBJECT            :S/MIME Capabilities\n",
      " 1277:d=7  hl=2 l=  41 cons: SET               \n",
      " 1279:d=8  hl=2 l=  39 cons: SEQUENCE          \n",
      " 1281:d=9  hl=2 l=  11 cons: SEQUENCE          \n",
      " 1283:d=10 hl=2 l=   9 prim: OBJECT            :aes-256-cbc\n",
      " 1294:d=9  hl=2 l=  11 cons: SEQUENCE          \n",
      " 1296:d=10 hl=2 l=   9 prim: OBJECT            :aes-192-cbc\n",
      " 1307:d=9  hl=2 l=  11 cons: SEQUENCE          \n",
      " 1309:d=10 hl=2 l=   9 prim: OBJECT            :aes-128-cbc\n",
      " 1320:d=5  hl=2 l=  13 cons: SEQUENCE          \n",
      " 1322:d=6  hl=2 l=   9 prim: OBJECT            :rsaEncryption\n",
      " 1333:d=6  hl=2 l=   0 prim: NULL              \n",
      " 1335:d=5  hl=4 l= 256 prim: OCTET STRING      [HEX DUMP]:AB7246746ABE9BFB901122FB78E8D82B822B8E3D95E37F5683950D8948FF554840C310F82F61FD89D1A28E7AF57A16E086F1C8EDDA0BA450E5704C4FEDF53DFD56619D47ECBC2352E6E9A3763FAE52E4E573FF983BDBE2C7BF05198D190236EC2CF04300B4E7705D791E90BC422658EFD941D3B4F12CD3A4CB3D5FB0DAEC19D4AB72A2994457BF6A0595CF3CC99A0341BE3B14B7328F54533B9E3A7CFCA21E2D4DFFDA932D7A3090F60B4225FA429926E6B24FB3128055C2E1251644D6A1BF98D574084E2C259EDD4E508DA2DC67AC2EB8B41CAAA2B413D9143BB3591D0A08833531D224E689204113A57F591F04468E6A3E5D486CAB12F5630B2496017006E5\n",
      "\n"
     ]
    }
   ],
   "source": [
    "instructions = [\n",
    "    \"openssl\",\n",
    "    \"asn1parse\",\n",
    "    \"-in\",\n",
    "    \"vectors/verify/signature.der\",\n",
    "    \"-inform\",\n",
    "    \"der\",\n",
    "]\n",
    "output = subprocess.run(instructions, check=True, capture_output=True)\n",
    "print(output.stdout.decode())"
   ]
  },
  {
   "cell_type": "markdown",
   "metadata": {},
   "source": [
    "#### Vérification\n",
    "Ici, on doit rajouter \"-noverify\" pour ne pas vérifier la signature du certificat, car sinon on a\n",
    "l'erreur suivante: \"self-signed certificate\". Nous n'avons pas cette erreur en utilisant la fonction `test_support.pkcs7_verify` de la librairie `cryptography`."
   ]
  },
  {
   "cell_type": "code",
   "execution_count": 19,
   "metadata": {},
   "outputs": [
    {
     "data": {
      "text/plain": [
       "'Verification successful\\r\\n'"
      ]
     },
     "execution_count": 19,
     "metadata": {},
     "output_type": "execute_result"
    }
   ],
   "source": [
    "# Message signé\n",
    "instructions = [\n",
    "    \"openssl\",\n",
    "    \"smime\",\n",
    "    \"-verify\",\n",
    "    \"-in\",\n",
    "    \"vectors/verify/signed.txt\",\n",
    "    # \"-certfile\",\n",
    "    # \"vectors/verify/verify.pem\",\n",
    "    \"-CAfile\",\n",
    "    \"vectors/verify/ca_chain.pem\",\n",
    "    # \"-noverify\",\n",
    "]\n",
    "output = subprocess.run(instructions, capture_output=True)\n",
    "output.stderr.decode()"
   ]
  },
  {
   "cell_type": "code",
   "execution_count": 20,
   "metadata": {},
   "outputs": [
    {
     "data": {
      "text/plain": [
       "'Verification successful\\r\\n'"
      ]
     },
     "execution_count": 20,
     "metadata": {},
     "output_type": "execute_result"
    }
   ],
   "source": [
    "# Message signé\n",
    "instructions = [\n",
    "    \"openssl\",\n",
    "    \"smime\",\n",
    "    \"-verify\",\n",
    "    \"-in\",\n",
    "    \"vectors/verify/signature.der\",\n",
    "    \"-inform\",\n",
    "    \"der\",\n",
    "    \"-content\",\n",
    "    \"vectors/message.txt\",  # depends on the text signing options\n",
    "    # \"vectors/canonical_message.txt\",  # depends on the text signing options\n",
    "    # \"-certfile\",  # optional\n",
    "    # \"vectors/verify/ca.pem\",  # optional\n",
    "    \"-CAfile\",\n",
    "    \"vectors/verify/ca_chain.pem\",\n",
    "    # \"-noverify\",\n",
    "]\n",
    "output = subprocess.run(instructions, capture_output=True)\n",
    "output.stderr.decode()"
   ]
  },
  {
   "cell_type": "markdown",
   "metadata": {},
   "source": [
    "### Solution 2 : avec `asn1crypto`"
   ]
  },
  {
   "cell_type": "markdown",
   "metadata": {},
   "source": [
    "#### Structure ASN.1"
   ]
  },
  {
   "cell_type": "code",
   "execution_count": 21,
   "metadata": {},
   "outputs": [
    {
     "data": {
      "text/plain": [
       "('signed_data', '1.2.840.113549.1.7.2')"
      ]
     },
     "execution_count": 21,
     "metadata": {},
     "output_type": "execute_result"
    }
   ],
   "source": [
    "# Load the structure\n",
    "content_info = cms.ContentInfo.load(signature)\n",
    "content_type: cms.ContentType = content_info[\"content_type\"]\n",
    "signed_data: cms.SignedData = content_info[\"content\"]\n",
    "\n",
    "# # About the content type\n",
    "content_type.native, content_type.dotted"
   ]
  },
  {
   "cell_type": "code",
   "execution_count": 22,
   "metadata": {},
   "outputs": [],
   "source": [
    "def native_to_json(native_content):\n",
    "    if isinstance(native_content, list):\n",
    "        return [native_to_json(item) for item in native_content]\n",
    "    elif isinstance(native_content, dict):\n",
    "        return {key: native_to_json(value) for key, value in native_content.items()}\n",
    "    else:\n",
    "        return native_content"
   ]
  },
  {
   "cell_type": "code",
   "execution_count": 23,
   "metadata": {},
   "outputs": [
    {
     "name": "stdout",
     "output_type": "stream",
     "text": [
      "Version: v1\n",
      "\n",
      "Digest algorithm 1: sha256\n",
      "Encapsulated content info: {'content_type': 'data', 'content': b'Hello world!'}\n",
      "\n",
      "Certificate 1:\n",
      "{'signature_algorithm': {'algorithm': 'sha256_rsa', 'parameters': None},\n",
      " 'signature_value': b'\\xbd\\xc8\\x8a\\xc7\\x1a\"\\xaa\\x05\\x04\\xb3(\\xc7w\\x08\\x84 '\n",
      "                    b'\\rX\\xef\\xd4\\xd5\\xe3\\xaf\\x8c8\\xdf3\\xfbN\\x1e\\x7f\\xba'\n",
      "                    b'\\x8d\\xc8\\xbf\\xa4\\xbf\\xd9\\x1e\\x07Q\\xb6\\xa0\\x82'\n",
      "                    b'\\x89\\xa0\\x8a\\xb4\\x91\\x03\\xfd\\xff\\xfd4U\\n\\xa9\\xc4\\x99\\xf7'\n",
      "                    b'\\xeb\\xf3[DV,\\x9cG\\x80\\x8b\\xc2J2\\xe9\\xa0\\xcd:\\\\)R'\n",
      "                    b'\\x97\\x18\\xd5\\x9e\\xfe\\xb6\\x1d\\xbdM\\x0b\\x81_\\r\\xf9\\xf3\\xc8'\n",
      "                    b'o\\x83d{\\xac\\x9f?\\xccB\\xe5\\xcd\\xc0y\\xed\\x03\\xaf'\n",
      "                    b'\\x89\\xc8\\x1f\\xc7Xu\"{h\\x9e\\xad\\x06\\x07\\xdaa\\r\\xd5r\\t\\x9b'\n",
      "                    b'\\x99nHl-\\xb8f\\x96|\\xdc\\xff\\xc3}\\xb8\\xbaG\\x15\\xa4\\xc7w'\n",
      "                    b'\\t\\xb1\\x0ef\\xaa\\x9fI\\x81\\x96Ps\\x95\\x1b\\xdd?8\\xc4\\x9f(\\x0f'\n",
      "                    b'\\xc8\\xd2\\x18\\x9a\\xf1\\x88\\xa3\\xd1~\\r\\xcb\\xe6\\xfel\\xb9\\xc7'\n",
      "                    b'j\\x8a3g\\x02\\x7fR\\xa0e\\xf6\\x9b[~#\\x8e\\xb8U\\xc9?\\xb8'\n",
      "                    b'-\\xe7\\x8e\\xd1\\xa7\\xaf\\xb6\\x0bE\\xc6$\\xcf\\xa5{A\\x18'\n",
      "                    b'\\x95L\\xdbXN\\x94Z\\x0cZ!\\x1ay\\xb9\\xcf\\x07\\x9dGy{\\x89'\n",
      "                    b'Wn\\xbf\\x88\\xc7\\x17%\\xdda\\xdc\\x92I',\n",
      " 'tbs_certificate': {'extensions': [{'critical': True,\n",
      "                                     'extn_id': 'basic_constraints',\n",
      "                                     'extn_value': {'ca': False,\n",
      "                                                    'path_len_constraint': None}},\n",
      "                                    {'critical': False,\n",
      "                                     'extn_id': 'authority_key_identifier',\n",
      "                                     'extn_value': {'authority_cert_issuer': None,\n",
      "                                                    'authority_cert_serial_number': None,\n",
      "                                                    'key_identifier': b'\\x1d\\xb9L\\xbb'\n",
      "                                                                      b'\\xce\\xab\\xfa\\xcf'\n",
      "                                                                      b'{\\xa4\\xe1\\xf2'\n",
      "                                                                      b'^\\x89\\xfa!'\n",
      "                                                                      b'J{C\\xd9'}},\n",
      "                                    {'critical': False,\n",
      "                                     'extn_id': 'crl_distribution_points',\n",
      "                                     'extn_value': [{'crl_issuer': None,\n",
      "                                                     'distribution_point': ['http://ca.trisoft.com.pl/crl'],\n",
      "                                                     'reasons': None}]},\n",
      "                                    {'critical': False,\n",
      "                                     'extn_id': 'authority_information_access',\n",
      "                                     'extn_value': [{'access_location': 'http://ca.trisoft.com.pl/cacert',\n",
      "                                                     'access_method': 'ca_issuers'},\n",
      "                                                    {'access_location': 'http://ca.trisoft.com.pl/ocsp',\n",
      "                                                     'access_method': 'ocsp'}]},\n",
      "                                    {'critical': False,\n",
      "                                     'extn_id': 'subject_alt_name',\n",
      "                                     'extn_value': ['demo1@trisoft.com.pl']},\n",
      "                                    {'critical': False,\n",
      "                                     'extn_id': 'extended_key_usage',\n",
      "                                     'extn_value': ['client_auth',\n",
      "                                                    'email_protection']},\n",
      "                                    {'critical': False,\n",
      "                                     'extn_id': 'key_identifier',\n",
      "                                     'extn_value': b'\\xf4\\xfd\\x01C'\n",
      "                                                   b'\\x15\\x7f\\xc2\\x08'\n",
      "                                                   b'\\xcb\\x17\\xdf\\x9e\\x86\"h\\x96'\n",
      "                                                   b'\\xc0\\xf61\\x8c'},\n",
      "                                    {'critical': True,\n",
      "                                     'extn_id': 'key_usage',\n",
      "                                     'extn_value': {'digital_signature',\n",
      "                                                    'key_agreement',\n",
      "                                                    'key_encipherment',\n",
      "                                                    'non_repudiation'}}],\n",
      "                     'issuer': {'common_name': 'CA'},\n",
      "                     'issuer_unique_id': None,\n",
      "                     'serial_number': 46621653257873060132739385234879148629,\n",
      "                     'signature': {'algorithm': 'sha256_rsa',\n",
      "                                   'parameters': None},\n",
      "                     'subject': {'email_address': 'demo1@trisoft.com.pl'},\n",
      "                     'subject_public_key_info': {'algorithm': {'algorithm': 'rsa',\n",
      "                                                               'parameters': None},\n",
      "                                                 'public_key': {'modulus': 23135915833175003746576997767708318724017848591619124496485155543529975175437686751474863660402400562156794718839875660123725678402447722198933688479744198900313776507838092923066235474572749274373480383016022005460243143242947885135678315369731601796974200633234249215969646114464092779074093390931081642369696173247219617957380662035028257362787487041478495730670876670419963642528527850358761917713723411388291914547118650503760912524526301373917864600484800749396529075846842754179169298455785214020354344827637768709134218630100647151998216801034956333209349495339126771199907991103900757329688239289089830154449,\n",
      "                                                                'public_exponent': 65537}},\n",
      "                     'subject_unique_id': None,\n",
      "                     'validity': {'not_after': datetime.datetime(2026, 1, 5, 10, 48, 28, tzinfo=datetime.timezone.utc),\n",
      "                                  'not_before': datetime.datetime(2025, 1, 5, 10, 48, 28, tzinfo=datetime.timezone.utc)},\n",
      "                     'version': 'v3'}}\n",
      "\n",
      "Signer info 1:\n",
      "{'digest_algorithm': {'algorithm': 'sha256', 'parameters': None},\n",
      " 'sid': {'issuer': {'common_name': 'CA'},\n",
      "         'serial_number': 46621653257873060132739385234879148629},\n",
      " 'signature': b'\\xabrFtj\\xbe\\x9b\\xfb\\x90\\x11\"\\xfbx\\xe8\\xd8+\\x82+\\x8e='\n",
      "              b'\\x95\\xe3\\x7fV\\x83\\x95\\r\\x89H\\xffUH@\\xc3\\x10\\xf8/a\\xfd\\x89'\n",
      "              b'\\xd1\\xa2\\x8ez\\xf5z\\x16\\xe0\\x86\\xf1\\xc8\\xed\\xda\\x0b\\xa4P\\xe5pLO'\n",
      "              b'\\xed\\xf5=\\xfdVa\\x9dG\\xec\\xbc#R\\xe6\\xe9\\xa3v?\\xaeR\\xe4'\n",
      "              b'\\xe5s\\xff\\x98;\\xdb\\xe2\\xc7\\xbf\\x05\\x19\\x8d\\x19\\x026\\xec'\n",
      "              b',\\xf0C\\x00\\xb4\\xe7p]y\\x1e\\x90\\xbcB&X\\xef\\xd9A\\xd3\\xb4'\n",
      "              b'\\xf1,\\xd3\\xa4\\xcb=_\\xb0\\xda\\xec\\x19\\xd4\\xabr\\xa2\\x99DW\\xbfj'\n",
      "              b'\\x05\\x95\\xcf<\\xc9\\x9a\\x03A\\xbe;\\x14\\xb72\\x8fTS;\\x9e:|'\n",
      "              b'\\xfc\\xa2\\x1e-M\\xff\\xda\\x93-z0\\x90\\xf6\\x0bB%\\xfaB\\x99&'\n",
      "              b'\\xe6\\xb2O\\xb3\\x12\\x80U\\xc2\\xe1%\\x16D\\xd6\\xa1\\xbf\\x98\\xd5t\\x08N'\n",
      "              b',%\\x9e\\xddNP\\x8d\\xa2\\xdcg\\xac.\\xb8\\xb4\\x1c\\xaa\\xa2\\xb4\\x13\\xd9'\n",
      "              b'\\x14;\\xb3Y\\x1d\\n\\x08\\x8351\\xd2$\\xe6\\x89 A\\x13\\xa5\\x7fY'\n",
      "              b'\\x1f\\x04F\\x8ej>]Hl\\xab\\x12\\xf5c\\x0b$\\x96\\x01p\\x06\\xe5',\n",
      " 'signature_algorithm': {'algorithm': 'rsassa_pkcs1v15', 'parameters': None},\n",
      " 'signed_attrs': [{'type': 'content_type', 'values': ['data']},\n",
      "                  {'type': 'signing_time',\n",
      "                   'values': [datetime.datetime(2025, 1, 15, 10, 18, 20, tzinfo=datetime.timezone.utc)]},\n",
      "                  {'type': 'message_digest',\n",
      "                   'values': [b'\\xc0S^K\\xe2\\xb7\\x9f\\xfd\\x93)\\x13\\x05Ck\\xf8\\x89'\n",
      "                              b'1NJ?\\xae\\xc0^\\xcf\\xfc\\xbb}\\xf3\\x1a\\xd9\\xe5\\x1a']},\n",
      "                  {'type': 'smime_capabilities',\n",
      "                   'values': [[{'capability_id': 'aes256_cbc',\n",
      "                                'parameters': None},\n",
      "                               {'capability_id': 'aes192_cbc',\n",
      "                                'parameters': None},\n",
      "                               {'capability_id': 'aes128_cbc',\n",
      "                                'parameters': None}]]}],\n",
      " 'unsigned_attrs': None,\n",
      " 'version': 'v1'}\n"
     ]
    }
   ],
   "source": [
    "# About the signed data\n",
    "# -- Version\n",
    "version: cms.CMSVersion = signed_data[\"version\"]\n",
    "print(\"Version:\", version.native)\n",
    "\n",
    "# -- Digest algorithms\n",
    "digest_algorithms: cms.DigestAlgorithms = signed_data[\"digest_algorithms\"]\n",
    "for i, digest_algorithm in enumerate(digest_algorithms):\n",
    "    print(f\"\\nDigest algorithm {i+1}:\", digest_algorithm[\"algorithm\"].native)\n",
    "\n",
    "# -- Encapsulated content info\n",
    "encap_content_info: cms.EncapsulatedContentInfo = signed_data[\"encap_content_info\"]\n",
    "print(\"Encapsulated content info:\", native_to_json(encap_content_info.native))\n",
    "\n",
    "# -- Certificates\n",
    "certificates: cms.CertificateSet = signed_data[\"certificates\"]\n",
    "for i, cert in enumerate(certificates):\n",
    "    print(f\"\\nCertificate {i+1}:\")\n",
    "    pprint(native_to_json(cert.native))\n",
    "\n",
    "# -- Signer infos\n",
    "signer_infos: cms.SignerInfos = signed_data[\"signer_infos\"]\n",
    "for i, signer_info in enumerate(signer_infos):\n",
    "    print(f\"\\nSigner info {i+1}:\")\n",
    "    pprint(native_to_json(signer_info.native))"
   ]
  },
  {
   "cell_type": "code",
   "execution_count": 24,
   "metadata": {},
   "outputs": [
    {
     "name": "stdout",
     "output_type": "stream",
     "text": [
      "\n",
      "Signed attribute 1:\n",
      "<asn1crypto.cms.CMSAttribute 1682158966544 b'0\\x18\\x06\\t*\\x86H\\x86\\xf7\\r\\x01\\t\\x031\\x0b\\x06\\t*\\x86H\\x86\\xf7\\r\\x01\\x07\\x01'>\n",
      "{'type': 'content_type', 'values': ['data']}\n",
      "\n",
      "Signed attribute 2:\n",
      "<asn1crypto.cms.CMSAttribute 1682158966032 b'0\\x1c\\x06\\t*\\x86H\\x86\\xf7\\r\\x01\\t\\x051\\x0f\\x17\\r250115101820Z'>\n",
      "{'type': 'signing_time',\n",
      " 'values': [datetime.datetime(2025, 1, 15, 10, 18, 20, tzinfo=datetime.timezone.utc)]}\n",
      "\n",
      "Signed attribute 3:\n",
      "<asn1crypto.cms.CMSAttribute 1682159686672 b'0/\\x06\\t*\\x86H\\x86\\xf7\\r\\x01\\t\\x041\"\\x04 \\xc0S^K\\xe2\\xb7\\x9f\\xfd\\x93)\\x13\\x05Ck\\xf8\\x891NJ?\\xae\\xc0^\\xcf\\xfc\\xbb}\\xf3\\x1a\\xd9\\xe5\\x1a'>\n",
      "{'type': 'message_digest',\n",
      " 'values': [b'\\xc0S^K\\xe2\\xb7\\x9f\\xfd\\x93)\\x13\\x05Ck\\xf8\\x891NJ?\\xae\\xc0^\\xcf'\n",
      "            b'\\xfc\\xbb}\\xf3\\x1a\\xd9\\xe5\\x1a']}\n",
      "\n",
      "Signed attribute 4:\n",
      "<asn1crypto.cms.CMSAttribute 1682135114448 b\"06\\x06\\t*\\x86H\\x86\\xf7\\r\\x01\\t\\x0f1)0'0\\x0b\\x06\\t`\\x86H\\x01e\\x03\\x04\\x01*0\\x0b\\x06\\t`\\x86H\\x01e\\x03\\x04\\x01\\x160\\x0b\\x06\\t`\\x86H\\x01e\\x03\\x04\\x01\\x02\">\n",
      "{'type': 'smime_capabilities',\n",
      " 'values': [[{'capability_id': 'aes256_cbc', 'parameters': None},\n",
      "             {'capability_id': 'aes192_cbc', 'parameters': None},\n",
      "             {'capability_id': 'aes128_cbc', 'parameters': None}]]}\n"
     ]
    }
   ],
   "source": [
    "# Zoom sur le seul signer info\n",
    "signer_info = signed_data[\"signer_infos\"][0]\n",
    "\n",
    "# Les données à l'intérieur\n",
    "version: cms.CMSVersion = signer_info[\"version\"]\n",
    "sid: cms.SignerIdentifier = signer_info[\"sid\"]\n",
    "digest_algorithm: cms.DigestAlgorithm = signer_info[\"digest_algorithm\"]\n",
    "signature_algorithm: cms.SignedDigestAlgorithm = signer_info[\"signature_algorithm\"]\n",
    "signature_data: cms.OctetString = signer_info[\"signature\"]\n",
    "\n",
    "# Signed attributes\n",
    "signed_attrs: cms.CMSAttributes = signer_info[\"signed_attrs\"]\n",
    "for i, attribute in enumerate(signed_attrs):\n",
    "    print(f\"\\nSigned attribute {i+1}:\")\n",
    "    print(attribute)\n",
    "    pprint(native_to_json(attribute.native))"
   ]
  },
  {
   "cell_type": "markdown",
   "metadata": {},
   "source": [
    "#### Vérification de la signature\n",
    "Il faut vérifier la signature en utilisant le certificat (et pas la clé privée !)"
   ]
  },
  {
   "cell_type": "code",
   "execution_count": 26,
   "metadata": {},
   "outputs": [
    {
     "name": "stdout",
     "output_type": "stream",
     "text": [
      "RSA Signature verified!\n"
     ]
    }
   ],
   "source": [
    "# Données à vérifier\n",
    "if signed_attrs.native is None:\n",
    "    # verify_data = message\n",
    "    verify_data = b\"Content-Type: text/plain\\r\\n\\r\\n\" + message\n",
    "else:\n",
    "    verify_data = signed_attrs.dump()\n",
    "    verify_data = b\"\\x31\" + verify_data[1:]  # 0x31 is the SEQUENCE tag\n",
    "\n",
    "# Algorithme de hachage / digestion\n",
    "digest_algorithm_name = signer_info[\"digest_algorithm\"][\"algorithm\"].native\n",
    "hash = getattr(hashes, digest_algorithm_name.upper())()\n",
    "\n",
    "# Vérification de la signature\n",
    "public_key = certificate.public_key()\n",
    "if isinstance(public_key, RSAPublicKey):\n",
    "    public_key.verify(signature_data.native, verify_data, padding.PKCS1v15(), hash)\n",
    "    print(\"RSA Signature verified!\")\n",
    "elif isinstance(public_key, EllipticCurvePublicKey):\n",
    "    public_key.verify(signature_data.native, verify_data, ECDSA(hash))\n",
    "    print(\"ECDSA Signature verified!\")"
   ]
  },
  {
   "cell_type": "markdown",
   "metadata": {},
   "source": [
    "#### Vérification des certificats"
   ]
  },
  {
   "cell_type": "code",
   "execution_count": 27,
   "metadata": {},
   "outputs": [
    {
     "data": {
      "text/plain": [
       "[<Certificate(subject=<Name(1.2.840.113549.1.9.1=demo1@trisoft.com.pl)>, ...)>]"
      ]
     },
     "execution_count": 27,
     "metadata": {},
     "output_type": "execute_result"
    }
   ],
   "source": [
    "builder = PolicyBuilder().store(Store([certificate]))\n",
    "verifier = builder.build_client_verifier()\n",
    "verified_client = verifier.verify(certificate, [])\n",
    "verified_client.chain"
   ]
  },
  {
   "cell_type": "markdown",
   "metadata": {},
   "source": [
    "### Solution 3 : avec `cryptography` !\n",
    "Il est possible de vérifier la signature d'un mail avec une fonction rust qui appelle les fonctions\n",
    "OpenSSL. Cette fonction est privée et n'est donc pas censée être utilisée par les utilisateurs de la\n",
    "librairie. D'où l'intérêt de construire une API publique ! "
   ]
  },
  {
   "cell_type": "code",
   "execution_count": 31,
   "metadata": {},
   "outputs": [],
   "source": [
    "# Récupération du contenu - message.replace fonctionne aussi\n",
    "signed_message = email.message_from_bytes(signed)\n",
    "content = signed_message.get_payload()[0].get_payload(decode=True)\n",
    "\n",
    "# Vérification du message signé\n",
    "test_support.pkcs7_verify(Encoding.SMIME, signed, content, [certificate_chain], [])\n",
    "\n",
    "# Vérification de la signature\n",
    "test_support.pkcs7_verify(Encoding.DER, signature, message, [certificate_chain], [])"
   ]
  },
  {
   "cell_type": "markdown",
   "metadata": {},
   "source": [
    "### Solution 4 : avec `endesive`\n",
    "La librairie `endesive` permet de vérifier la signature d'un email. Elle est basée sur les\n",
    "librairies `asn1crypto`, `certvalidator` et `cryptography`."
   ]
  },
  {
   "cell_type": "code",
   "execution_count": 34,
   "metadata": {},
   "outputs": [
    {
     "data": {
      "text/plain": [
       "(True, True, True)"
      ]
     },
     "execution_count": 34,
     "metadata": {},
     "output_type": "execute_result"
    }
   ],
   "source": [
    "endesive_email.verify(signed.decode(), [certificate_bytes])"
   ]
  }
 ],
 "metadata": {
  "kernelspec": {
   "display_name": "decrypt-emails-py311",
   "language": "python",
   "name": "python3"
  },
  "language_info": {
   "codemirror_mode": {
    "name": "ipython",
    "version": 3
   },
   "file_extension": ".py",
   "mimetype": "text/x-python",
   "name": "python",
   "nbconvert_exporter": "python",
   "pygments_lexer": "ipython3",
   "version": "3.11.10"
  }
 },
 "nbformat": 4,
 "nbformat_minor": 2
}
