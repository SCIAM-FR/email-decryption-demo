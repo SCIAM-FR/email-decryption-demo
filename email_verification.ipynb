{
 "cells": [
  {
   "cell_type": "markdown",
   "metadata": {},
   "source": [
    "# Vérification de signature d'emails avec Python\n",
    "Dans cette Tech Review, nous présentons les différentes solutions étudiées pour vérifier des\n",
    "emails signés avec Python.  "
   ]
  },
  {
   "cell_type": "markdown",
   "metadata": {},
   "source": [
    "## Import des librairies\n"
   ]
  },
  {
   "cell_type": "code",
   "execution_count": 46,
   "metadata": {},
   "outputs": [],
   "source": [
    "import email\n",
    "import subprocess\n",
    "from pprint import pprint\n",
    "\n",
    "from asn1crypto import cms\n",
    "from cryptography.hazmat.bindings._rust import test_support\n",
    "from cryptography.hazmat.primitives import hashes\n",
    "from cryptography.hazmat.primitives.asymmetric.ec import ECDSA, EllipticCurvePublicKey\n",
    "from cryptography.hazmat.primitives.serialization import (\n",
    "    Encoding,\n",
    "    load_pem_private_key,\n",
    "    pkcs12,\n",
    "    PrivateFormat,\n",
    "    NoEncryption,\n",
    ")\n",
    "from cryptography.hazmat.primitives.serialization.pkcs7 import (\n",
    "    PKCS7Options,\n",
    "    PKCS7SignatureBuilder,\n",
    ")\n",
    "from cryptography.x509 import load_pem_x509_certificate\n",
    "from endesive import email as endesive_email"
   ]
  },
  {
   "cell_type": "markdown",
   "metadata": {},
   "source": [
    "## Création d'un nouveau certificat"
   ]
  },
  {
   "cell_type": "code",
   "execution_count": 47,
   "metadata": {},
   "outputs": [],
   "source": [
    "# Lecture d'un nouveau certificat sous format pkcs12\n",
    "with open(\"vectors/verify/verify.p12\", \"rb\") as f:\n",
    "    private_key, certificate, _ = pkcs12.load_key_and_certificates(f.read(), b\"1234\")\n",
    "\n",
    "# Écriture du certificat en PEM\n",
    "with open(\"vectors/verify/verify.pem\", \"wb\") as f:\n",
    "    f.write(certificate.public_bytes(Encoding.PEM))\n",
    "\n",
    "# Ecriture de la clé privée en PEM\n",
    "with open(\"vectors/verify/verify_key.pem\", \"wb\") as f:\n",
    "    f.write(\n",
    "        private_key.private_bytes(\n",
    "            Encoding.PEM, PrivateFormat.TraditionalOpenSSL, NoEncryption()\n",
    "        )\n",
    "    )"
   ]
  },
  {
   "cell_type": "markdown",
   "metadata": {},
   "source": [
    "## Lecture du certificat X.509"
   ]
  },
  {
   "cell_type": "code",
   "execution_count": 3,
   "metadata": {},
   "outputs": [
    {
     "data": {
      "text/plain": [
       "cryptography.hazmat.bindings._rust.x509.Certificate"
      ]
     },
     "execution_count": 3,
     "metadata": {},
     "output_type": "execute_result"
    }
   ],
   "source": [
    "# Clé publique : certificat RSA\n",
    "with open(\"vectors/verify/ca.pem\", \"rb\") as file:\n",
    "    certificate = load_pem_x509_certificate(file.read())\n",
    "type(certificate)"
   ]
  },
  {
   "cell_type": "code",
   "execution_count": 4,
   "metadata": {},
   "outputs": [
    {
     "name": "stdout",
     "output_type": "stream",
     "text": [
      "Type: <class 'cryptography.hazmat.bindings._rust.openssl.ec.ECPublicKey'>\n"
     ]
    },
    {
     "data": {
      "text/plain": [
       "True"
      ]
     },
     "execution_count": 4,
     "metadata": {},
     "output_type": "execute_result"
    }
   ],
   "source": [
    "# Clé publique du certificat\n",
    "public_key = certificate.public_key()\n",
    "print(\"Type:\", type(public_key))\n",
    "isinstance(public_key, EllipticCurvePublicKey)"
   ]
  },
  {
   "cell_type": "code",
   "execution_count": 5,
   "metadata": {},
   "outputs": [],
   "source": [
    "# Clé privée : RSA\n",
    "with open(\"vectors/verify/ca_key.pem\", \"rb\") as file:\n",
    "    private_key = load_pem_private_key(file.read(), password=None)"
   ]
  },
  {
   "cell_type": "markdown",
   "metadata": {},
   "source": [
    "## Signature d'un email"
   ]
  },
  {
   "cell_type": "code",
   "execution_count": 6,
   "metadata": {},
   "outputs": [],
   "source": [
    "# Écriture d'un message non-chiffré\n",
    "# message = b\"Hello world!\\n\"\n",
    "message = b\"Hello world!\"\n",
    "canonical_message = b\"Content-Type: text/plain\\r\\n\\r\\n\" + message\n",
    "with open(\"vectors/message.txt\", \"wb\") as file:\n",
    "    file.write(message)\n",
    "with open(\"vectors/canonical_message.txt\", \"wb\") as file:\n",
    "    file.write(canonical_message)"
   ]
  },
  {
   "cell_type": "markdown",
   "metadata": {},
   "source": [
    "### Avec `openssl`"
   ]
  },
  {
   "cell_type": "code",
   "execution_count": 48,
   "metadata": {},
   "outputs": [
    {
     "data": {
      "text/plain": [
       "b''"
      ]
     },
     "execution_count": 48,
     "metadata": {},
     "output_type": "execute_result"
    }
   ],
   "source": [
    "# SMIME : ancienne version\n",
    "instructions = [\n",
    "    \"openssl\",\n",
    "    \"smime\",  # on peut utiliser smime ou cms\n",
    "    \"-sign\",\n",
    "    \"-in\",\n",
    "    \"vectors/message.txt\",\n",
    "    \"-out\",\n",
    "    \"vectors/verify/signed.txt\",\n",
    "    \"-signer\",\n",
    "    \"vectors/verify/verify.pem\",\n",
    "    \"-inkey\",\n",
    "    \"vectors/verify/verify_key.pem\",\n",
    "    \"-noattr\",  # optionnel\n",
    "    \"-text\",  # optionnel\n",
    "]\n",
    "smime_encryption_result = subprocess.run(instructions, check=True, capture_output=True)\n",
    "smime_encryption_result.stderr"
   ]
  },
  {
   "cell_type": "code",
   "execution_count": 49,
   "metadata": {},
   "outputs": [
    {
     "data": {
      "text/plain": [
       "b''"
      ]
     },
     "execution_count": 49,
     "metadata": {},
     "output_type": "execute_result"
    }
   ],
   "source": [
    "# Signature\n",
    "instructions = [\n",
    "    \"openssl\",\n",
    "    \"smime\",  # on peut utiliser smime ou cms\n",
    "    \"-sign\",\n",
    "    \"-in\",\n",
    "    \"vectors/message.txt\",\n",
    "    \"-out\",\n",
    "    \"vectors/verify/signature.der\",\n",
    "    \"-outform\",\n",
    "    \"DER\",\n",
    "    \"-signer\",\n",
    "    \"vectors/verify/verify.pem\",\n",
    "    \"-inkey\",\n",
    "    \"vectors/verify/verify_key.pem\",\n",
    "    \"-noattr\",  # optionnel\n",
    "    \"-text\",  # optionnel\n",
    "]\n",
    "smime_encryption_result = subprocess.run(instructions, check=True, capture_output=True)\n",
    "smime_encryption_result.stderr"
   ]
  },
  {
   "cell_type": "markdown",
   "metadata": {},
   "source": [
    "### Avec `cryptography`\n",
    "Les fonctionnalités de chiffrage d'email sont disponibles dans la librairie `cryptography` depuis\n",
    "début 2024. "
   ]
  },
  {
   "cell_type": "code",
   "execution_count": 27,
   "metadata": {},
   "outputs": [],
   "source": [
    "# Prepare the envelope builder\n",
    "builder = PKCS7SignatureBuilder()\n",
    "builder = builder.add_signer(certificate, private_key, hashes.SHA256())\n",
    "builder = builder.set_data(message)\n",
    "\n",
    "# Encrypt the data\n",
    "options = [\n",
    "    # PKCS7Options.DetachedSignature,\n",
    "    # PKCS7Options.NoAttributes,\n",
    "    # PKCS7Options.Text,\n",
    "]\n",
    "signed = builder.sign(Encoding.SMIME, options)\n",
    "signature = builder.sign(Encoding.DER, options)"
   ]
  },
  {
   "cell_type": "code",
   "execution_count": 28,
   "metadata": {},
   "outputs": [],
   "source": [
    "# Store the data in vectors\n",
    "with open(\"vectors/verify/signed.txt\", \"wb\") as file:\n",
    "    file.write(signed)\n",
    "with open(\"vectors/verify/signature.der\", \"wb\") as file:\n",
    "    file.write(signature)"
   ]
  },
  {
   "cell_type": "markdown",
   "metadata": {},
   "source": [
    "## Solutions abordées"
   ]
  },
  {
   "cell_type": "markdown",
   "metadata": {},
   "source": [
    "### Solution 1: avec `openssl`"
   ]
  },
  {
   "cell_type": "markdown",
   "metadata": {},
   "source": [
    "#### Structure ASN.1"
   ]
  },
  {
   "cell_type": "code",
   "execution_count": 8,
   "metadata": {},
   "outputs": [
    {
     "name": "stdout",
     "output_type": "stream",
     "text": [
      "    0:d=0  hl=4 l= 738 cons: SEQUENCE          \n",
      "    4:d=1  hl=2 l=   9 prim: OBJECT            :pkcs7-signedData\n",
      "   15:d=1  hl=4 l= 723 cons: cont [ 0 ]        \n",
      "   19:d=2  hl=4 l= 719 cons: SEQUENCE          \n",
      "   23:d=3  hl=2 l=   1 prim: INTEGER           :01\n",
      "   26:d=3  hl=2 l=  15 cons: SET               \n",
      "   28:d=4  hl=2 l=  13 cons: SEQUENCE          \n",
      "   30:d=5  hl=2 l=   9 prim: OBJECT            :sha256\n",
      "   41:d=5  hl=2 l=   0 prim: NULL              \n",
      "   43:d=3  hl=2 l=  27 cons: SEQUENCE          \n",
      "   45:d=4  hl=2 l=   9 prim: OBJECT            :pkcs7-data\n",
      "   56:d=4  hl=2 l=  14 cons: cont [ 0 ]        \n",
      "   58:d=5  hl=2 l=  12 prim: OCTET STRING      :Hello world!\n",
      "   72:d=3  hl=4 l= 343 cons: cont [ 0 ]        \n",
      "   76:d=4  hl=4 l= 339 cons: SEQUENCE          \n",
      "   80:d=5  hl=3 l= 249 cons: SEQUENCE          \n",
      "   83:d=6  hl=2 l=   3 cons: cont [ 0 ]        \n",
      "   85:d=7  hl=2 l=   1 prim: INTEGER           :02\n",
      "   88:d=6  hl=2 l=   2 prim: INTEGER           :0309\n",
      "   92:d=6  hl=2 l=  10 cons: SEQUENCE          \n",
      "   94:d=7  hl=2 l=   8 prim: OBJECT            :ecdsa-with-SHA256\n",
      "  104:d=6  hl=2 l=  39 cons: SEQUENCE          \n",
      "  106:d=7  hl=2 l=  11 cons: SET               \n",
      "  108:d=8  hl=2 l=   9 cons: SEQUENCE          \n",
      "  110:d=9  hl=2 l=   3 prim: OBJECT            :countryName\n",
      "  115:d=9  hl=2 l=   2 prim: PRINTABLESTRING   :US\n",
      "  119:d=7  hl=2 l=  24 cons: SET               \n",
      "  121:d=8  hl=2 l=  22 cons: SEQUENCE          \n",
      "  123:d=9  hl=2 l=   3 prim: OBJECT            :commonName\n",
      "  128:d=9  hl=2 l=  15 prim: UTF8STRING        :cryptography CA\n",
      "  145:d=6  hl=2 l=  32 cons: SEQUENCE          \n",
      "  147:d=7  hl=2 l=  13 prim: UTCTIME           :170101010000Z\n",
      "  162:d=7  hl=2 l=  15 prim: GENERALIZEDTIME   :21000101000000Z\n",
      "  179:d=6  hl=2 l=  39 cons: SEQUENCE          \n",
      "  181:d=7  hl=2 l=  11 cons: SET               \n",
      "  183:d=8  hl=2 l=   9 cons: SEQUENCE          \n",
      "  185:d=9  hl=2 l=   3 prim: OBJECT            :countryName\n",
      "  190:d=9  hl=2 l=   2 prim: PRINTABLESTRING   :US\n",
      "  194:d=7  hl=2 l=  24 cons: SET               \n",
      "  196:d=8  hl=2 l=  22 cons: SEQUENCE          \n",
      "  198:d=9  hl=2 l=   3 prim: OBJECT            :commonName\n",
      "  203:d=9  hl=2 l=  15 prim: UTF8STRING        :cryptography CA\n",
      "  220:d=6  hl=2 l=  89 cons: SEQUENCE          \n",
      "  222:d=7  hl=2 l=  19 cons: SEQUENCE          \n",
      "  224:d=8  hl=2 l=   7 prim: OBJECT            :id-ecPublicKey\n",
      "  233:d=8  hl=2 l=   8 prim: OBJECT            :prime256v1\n",
      "  243:d=7  hl=2 l=  66 prim: BIT STRING        \n",
      "  311:d=6  hl=2 l=  19 cons: cont [ 3 ]        \n",
      "  313:d=7  hl=2 l=  17 cons: SEQUENCE          \n",
      "  315:d=8  hl=2 l=  15 cons: SEQUENCE          \n",
      "  317:d=9  hl=2 l=   3 prim: OBJECT            :X509v3 Basic Constraints\n",
      "  322:d=9  hl=2 l=   1 prim: BOOLEAN           :255\n",
      "  325:d=9  hl=2 l=   5 prim: OCTET STRING      [HEX DUMP]:30030101FF\n",
      "  332:d=5  hl=2 l=  10 cons: SEQUENCE          \n",
      "  334:d=6  hl=2 l=   8 prim: OBJECT            :ecdsa-with-SHA256\n",
      "  344:d=5  hl=2 l=  73 prim: BIT STRING        \n",
      "  419:d=3  hl=4 l= 319 cons: SET               \n",
      "  423:d=4  hl=4 l= 315 cons: SEQUENCE          \n",
      "  427:d=5  hl=2 l=   1 prim: INTEGER           :01\n",
      "  430:d=5  hl=2 l=  45 cons: SEQUENCE          \n",
      "  432:d=6  hl=2 l=  39 cons: SEQUENCE          \n",
      "  434:d=7  hl=2 l=  11 cons: SET               \n",
      "  436:d=8  hl=2 l=   9 cons: SEQUENCE          \n",
      "  438:d=9  hl=2 l=   3 prim: OBJECT            :countryName\n",
      "  443:d=9  hl=2 l=   2 prim: PRINTABLESTRING   :US\n",
      "  447:d=7  hl=2 l=  24 cons: SET               \n",
      "  449:d=8  hl=2 l=  22 cons: SEQUENCE          \n",
      "  451:d=9  hl=2 l=   3 prim: OBJECT            :commonName\n",
      "  456:d=9  hl=2 l=  15 prim: UTF8STRING        :cryptography CA\n",
      "  473:d=6  hl=2 l=   2 prim: INTEGER           :0309\n",
      "  477:d=5  hl=2 l=  13 cons: SEQUENCE          \n",
      "  479:d=6  hl=2 l=   9 prim: OBJECT            :sha256\n",
      "  490:d=6  hl=2 l=   0 prim: NULL              \n",
      "  492:d=5  hl=3 l= 161 cons: cont [ 0 ]        \n",
      "  495:d=6  hl=2 l=  24 cons: SEQUENCE          \n",
      "  497:d=7  hl=2 l=   9 prim: OBJECT            :contentType\n",
      "  508:d=7  hl=2 l=  11 cons: SET               \n",
      "  510:d=8  hl=2 l=   9 prim: OBJECT            :pkcs7-data\n",
      "  521:d=6  hl=2 l=  28 cons: SEQUENCE          \n",
      "  523:d=7  hl=2 l=   9 prim: OBJECT            :signingTime\n",
      "  534:d=7  hl=2 l=  15 cons: SET               \n",
      "  536:d=8  hl=2 l=  13 prim: UTCTIME           :250113131009Z\n",
      "  551:d=6  hl=2 l=  47 cons: SEQUENCE          \n",
      "  553:d=7  hl=2 l=   9 prim: OBJECT            :messageDigest\n",
      "  564:d=7  hl=2 l=  34 cons: SET               \n",
      "  566:d=8  hl=2 l=  32 prim: OCTET STRING      [HEX DUMP]:C0535E4BE2B79FFD93291305436BF889314E4A3FAEC05ECFFCBB7DF31AD9E51A\n",
      "  600:d=6  hl=2 l=  54 cons: SEQUENCE          \n",
      "  602:d=7  hl=2 l=   9 prim: OBJECT            :S/MIME Capabilities\n",
      "  613:d=7  hl=2 l=  41 cons: SET               \n",
      "  615:d=8  hl=2 l=  39 cons: SEQUENCE          \n",
      "  617:d=9  hl=2 l=  11 cons: SEQUENCE          \n",
      "  619:d=10 hl=2 l=   9 prim: OBJECT            :aes-256-cbc\n",
      "  630:d=9  hl=2 l=  11 cons: SEQUENCE          \n",
      "  632:d=10 hl=2 l=   9 prim: OBJECT            :aes-192-cbc\n",
      "  643:d=9  hl=2 l=  11 cons: SEQUENCE          \n",
      "  645:d=10 hl=2 l=   9 prim: OBJECT            :aes-128-cbc\n",
      "  656:d=5  hl=2 l=  10 cons: SEQUENCE          \n",
      "  658:d=6  hl=2 l=   8 prim: OBJECT            :ecdsa-with-SHA256\n",
      "  668:d=5  hl=2 l=  72 prim: OCTET STRING      [HEX DUMP]:30460221009E12A14A1B85F68CCB4EA968CEB650CF9992C4680EC01BFA7A3DDD7DDCBF57BA022100D3A590725CE126C2E0422A265785E18526DD74C3BB116996F15E12F35E25412B\n",
      "\n"
     ]
    }
   ],
   "source": [
    "instructions = [\n",
    "    \"openssl\",\n",
    "    \"asn1parse\",\n",
    "    \"-in\",\n",
    "    \"vectors/verify/signature.der\",\n",
    "    \"-inform\",\n",
    "    \"der\",\n",
    "]\n",
    "output = subprocess.run(instructions, check=True, capture_output=True)\n",
    "print(output.stdout.decode())"
   ]
  },
  {
   "cell_type": "markdown",
   "metadata": {},
   "source": [
    "#### Vérification\n",
    "Ici, on doit rajouter \"-noverify\" pour ne pas vérifier la signature du certificat, car sinon on a\n",
    "l'erreur suivante: \"self-signed certificate\". Nous n'avons pas cette erreur en utilisant la fonction `test_support.pkcs7_verify` de la librairie `cryptography`."
   ]
  },
  {
   "cell_type": "code",
   "execution_count": 56,
   "metadata": {},
   "outputs": [
    {
     "data": {
      "text/plain": [
       "'Verification successful\\r\\n'"
      ]
     },
     "execution_count": 56,
     "metadata": {},
     "output_type": "execute_result"
    }
   ],
   "source": [
    "# Message signé\n",
    "instructions = [\n",
    "    \"openssl\",\n",
    "    \"smime\",\n",
    "    \"-verify\",\n",
    "    \"-in\",\n",
    "    \"vectors/verify/signed.txt\",\n",
    "    # \"-certfile\",\n",
    "    # \"vectors/verify/verify.pem\",\n",
    "    # \"-CAfile\",\n",
    "    # \"vectors/verify/verify_ca.pem\",\n",
    "    \"-noverify\",\n",
    "]\n",
    "output = subprocess.run(instructions, capture_output=True)\n",
    "output.stderr.decode()"
   ]
  },
  {
   "cell_type": "code",
   "execution_count": 10,
   "metadata": {},
   "outputs": [
    {
     "data": {
      "text/plain": [
       "'Verification successful\\r\\n'"
      ]
     },
     "execution_count": 10,
     "metadata": {},
     "output_type": "execute_result"
    }
   ],
   "source": [
    "# Message signé\n",
    "instructions = [\n",
    "    \"openssl\",\n",
    "    \"smime\",\n",
    "    \"-verify\",\n",
    "    \"-in\",\n",
    "    \"vectors/verify/signature.der\",\n",
    "    \"-inform\",\n",
    "    \"der\",\n",
    "    \"-content\",\n",
    "    \"vectors/message.txt\",\n",
    "    \"-certfile\",\n",
    "    \"vectors/verify/ca.pem\",\n",
    "    \"-noverify\",\n",
    "]\n",
    "output = subprocess.run(instructions, capture_output=True)\n",
    "output.stderr.decode()"
   ]
  },
  {
   "cell_type": "markdown",
   "metadata": {},
   "source": [
    "### Solution 2 : avec `asn1crypto`"
   ]
  },
  {
   "cell_type": "code",
   "execution_count": 19,
   "metadata": {},
   "outputs": [],
   "source": [
    "with open(\"vectors/verify/signature.der\", \"rb\") as file:\n",
    "    signature = file.read()"
   ]
  },
  {
   "cell_type": "markdown",
   "metadata": {},
   "source": [
    "#### Structure ASN.1"
   ]
  },
  {
   "cell_type": "code",
   "execution_count": 20,
   "metadata": {},
   "outputs": [
    {
     "data": {
      "text/plain": [
       "('signed_data', '1.2.840.113549.1.7.2')"
      ]
     },
     "execution_count": 20,
     "metadata": {},
     "output_type": "execute_result"
    }
   ],
   "source": [
    "# Load the structure\n",
    "content_info = cms.ContentInfo.load(signature)\n",
    "content_type: cms.ContentType = content_info[\"content_type\"]\n",
    "signed_data: cms.SignedData = content_info[\"content\"]\n",
    "\n",
    "# # About the content type\n",
    "content_type.native, content_type.dotted"
   ]
  },
  {
   "cell_type": "code",
   "execution_count": 21,
   "metadata": {},
   "outputs": [],
   "source": [
    "def native_to_json(native_content):\n",
    "    if isinstance(native_content, list):\n",
    "        return [native_to_json(item) for item in native_content]\n",
    "    elif isinstance(native_content, dict):\n",
    "        return {key: native_to_json(value) for key, value in native_content.items()}\n",
    "    else:\n",
    "        return native_content"
   ]
  },
  {
   "cell_type": "code",
   "execution_count": 22,
   "metadata": {},
   "outputs": [
    {
     "name": "stdout",
     "output_type": "stream",
     "text": [
      "Version: v1\n",
      "\n",
      "Digest algorithm 1: sha256\n",
      "Encapsulated content info: {'content_type': 'data', 'content': None}\n",
      "\n",
      "Certificate 1:\n",
      "{'signature_algorithm': {'algorithm': 'sha256_ecdsa', 'parameters': None},\n",
      " 'signature_value': b'0F\\x02!\\x00\\xbd\\xb6\\x19K\\xf1G\\xcc\\xdbK\\x18l\\xad\\x1d\\x13U'\n",
      "                    b'\\r\\xd70-b\\x12X\\xe0s\\xea\\x9fY\\xbd.\\x82\\xe3k\\x02!\\x00'\n",
      "                    b'\\xd3\\x85\\x1d\\xb6\\x0e\\xe6\\x19=C\\x10\\xdf\\xf0\\x04\\xca\\\\X'\n",
      "                    b'\\x9c\\xc3~\\xc8\\x11\\xe2QG\\xd4\\xee\\x10\\xef\\xf8\\x82\\xafL',\n",
      " 'tbs_certificate': {'extensions': [{'critical': True,\n",
      "                                     'extn_id': 'basic_constraints',\n",
      "                                     'extn_value': {'ca': True,\n",
      "                                                    'path_len_constraint': None}}],\n",
      "                     'issuer': {'common_name': 'cryptography CA',\n",
      "                                'country_name': 'US'},\n",
      "                     'issuer_unique_id': None,\n",
      "                     'serial_number': 777,\n",
      "                     'signature': {'algorithm': 'sha256_ecdsa',\n",
      "                                   'parameters': None},\n",
      "                     'subject': {'common_name': 'cryptography CA',\n",
      "                                 'country_name': 'US'},\n",
      "                     'subject_public_key_info': {'algorithm': {'algorithm': 'ec',\n",
      "                                                               'parameters': 'secp256r1'},\n",
      "                                                 'public_key': b'\\x04\\x18\\xff\\xcf'\n",
      "                                                               b'\\xbb\\xf99\\xb8'\n",
      "                                                               b'\\xf5\\xdd\\xc3\\xee'\n",
      "                                                               b'\\xc0@\\x8b\\x06'\n",
      "                                                               b'u\\x06\\xabO'\n",
      "                                                               b'\\xcd\\xd8,R'\n",
      "                                                               b'$N\\x1f\\xe0'\n",
      "                                                               b'\\x10Fg\\xb5'\n",
      "                                                               b'_\\x15\\xb9b'\n",
      "                                                               b'\\xbd;\\xcf\\x0c'\n",
      "                                                               b'o\\xbe\\x1a\\xf7'\n",
      "                                                               b'\\xb4\\xa1\\x0f\\xb4'\n",
      "                                                               b'\\xb9\\xcbn\\x86'\n",
      "                                                               b'\\xb3P\\xf9l'\n",
      "                                                               b'Q\\xbf\\xc1\\x82'\n",
      "                                                               b'\\xd7\\xbe\\xc5\\xf9'\n",
      "                                                               b'\\x05'},\n",
      "                     'subject_unique_id': None,\n",
      "                     'validity': {'not_after': datetime.datetime(2100, 1, 1, 0, 0, tzinfo=datetime.timezone.utc),\n",
      "                                  'not_before': datetime.datetime(2017, 1, 1, 1, 0, tzinfo=datetime.timezone.utc)},\n",
      "                     'version': 'v3'}}\n",
      "\n",
      "Signer info 1:\n",
      "{'digest_algorithm': {'algorithm': 'sha256', 'parameters': None},\n",
      " 'sid': {'issuer': {'common_name': 'cryptography CA', 'country_name': 'US'},\n",
      "         'serial_number': 777},\n",
      " 'signature': b'0F\\x02!\\x00\\xc5\\xbd\\x81\\x1a\\x89\\xdf\\xd9\\xa9\\x99\\x80\\x86'\n",
      "              b\"~;\\xca\\xbf2rL\\x0eC\\xf0u\\xddw\\xac\\xab\\xa7jPl'd\\x02!\\x00\"\n",
      "              b'\\xb0\\xd0\\xad\\xd7w\\xab*\\x18\\xa5\\xf4\\xfb\\x98\\xac+!i\\x9b\\r\\\\\\x91'\n",
      "              b'\\xd5\\nl\\x97\\x80\\xc7\\xaa\\xd2W\\xe6\\xe3\\r',\n",
      " 'signature_algorithm': {'algorithm': 'sha256_ecdsa', 'parameters': None},\n",
      " 'signed_attrs': None,\n",
      " 'unsigned_attrs': None,\n",
      " 'version': 'v1'}\n"
     ]
    }
   ],
   "source": [
    "# About the signed data\n",
    "# -- Version\n",
    "version: cms.CMSVersion = signed_data[\"version\"]\n",
    "print(\"Version:\", version.native)\n",
    "\n",
    "# -- Digest algorithms\n",
    "digest_algorithms: cms.DigestAlgorithms = signed_data[\"digest_algorithms\"]\n",
    "for i, digest_algorithm in enumerate(digest_algorithms):\n",
    "    print(f\"\\nDigest algorithm {i+1}:\", digest_algorithm[\"algorithm\"].native)\n",
    "\n",
    "# -- Encapsulated content info\n",
    "encap_content_info: cms.EncapsulatedContentInfo = signed_data[\"encap_content_info\"]\n",
    "print(\"Encapsulated content info:\", native_to_json(encap_content_info.native))\n",
    "\n",
    "# -- Certificates\n",
    "certificates: cms.CertificateSet = signed_data[\"certificates\"]\n",
    "for i, cert in enumerate(certificates):\n",
    "    print(f\"\\nCertificate {i+1}:\")\n",
    "    pprint(native_to_json(cert.native))\n",
    "\n",
    "# -- Signer infos\n",
    "signer_infos: cms.SignerInfos = signed_data[\"signer_infos\"]\n",
    "for i, signer_info in enumerate(signer_infos):\n",
    "    print(f\"\\nSigner info {i+1}:\")\n",
    "    pprint(native_to_json(signer_info.native))"
   ]
  },
  {
   "cell_type": "code",
   "execution_count": 23,
   "metadata": {},
   "outputs": [],
   "source": [
    "# Zoom sur le seul signer info\n",
    "signer_info = signed_data[\"signer_infos\"][0]\n",
    "\n",
    "# Les données à l'intérieur\n",
    "version: cms.CMSVersion = signer_info[\"version\"]\n",
    "sid: cms.SignerIdentifier = signer_info[\"sid\"]\n",
    "digest_algorithm: cms.DigestAlgorithm = signer_info[\"digest_algorithm\"]\n",
    "signature_algorithm: cms.SignedDigestAlgorithm = signer_info[\"signature_algorithm\"]\n",
    "signature_data: cms.OctetString = signer_info[\"signature\"]\n",
    "\n",
    "# Signed attributes\n",
    "signed_attrs: cms.CMSAttributes = signer_info[\"signed_attrs\"]\n",
    "for i, attribute in enumerate(signed_attrs):\n",
    "    print(f\"\\nSigned attribute {i+1}:\")\n",
    "    print(attribute)\n",
    "    pprint(native_to_json(attribute.native))"
   ]
  },
  {
   "cell_type": "markdown",
   "metadata": {},
   "source": [
    "#### Vérification de la signature\n",
    "Il faut vérifier la signature en utilisant le certificat (et pas la clé privée !)"
   ]
  },
  {
   "cell_type": "code",
   "execution_count": 24,
   "metadata": {},
   "outputs": [],
   "source": [
    "public_key: EllipticCurvePublicKey = certificate.public_key()\n",
    "if signed_attrs.native is None: \n",
    "    # verify_data = message\n",
    "    verify_data = b\"Content-Type: text/plain\\r\\n\\r\\n\" + message\n",
    "else:\n",
    "    verify_data = signed_attrs.dump()\n",
    "    verify_data = b\"\\x31\" + verify_data[:1]  # 0x31 is the SEQUENCE tag\n",
    "public_key.verify(signature_data.native, verify_data, ECDSA(hashes.SHA256())) "
   ]
  },
  {
   "cell_type": "markdown",
   "metadata": {},
   "source": [
    "### Solution 3 : avec `cryptography` !\n",
    "Il est possible de vérifier la signature d'un mail avec une fonction rust qui appelle les fonctions\n",
    "OpenSSL. Cette fonction est privée et n'est donc pas censée être utilisée par les utilisateurs de la\n",
    "librairie. D'où l'intérêt de construire une API publique ! "
   ]
  },
  {
   "cell_type": "code",
   "execution_count": 32,
   "metadata": {},
   "outputs": [],
   "source": [
    "# Récupération du contenu - message.replace fonctionne aussi\n",
    "signed_message = email.message_from_bytes(signed)\n",
    "content = signed_message.get_payload()[0].get_payload(decode=True)\n",
    "\n",
    "# Vérification du message signé\n",
    "test_support.pkcs7_verify(Encoding.SMIME, signed, content, [certificate], [])"
   ]
  },
  {
   "cell_type": "code",
   "execution_count": 33,
   "metadata": {},
   "outputs": [],
   "source": [
    "# Vérification de la signature\n",
    "test_support.pkcs7_verify(Encoding.DER, signature, canonical_message, [certificate], [])"
   ]
  },
  {
   "cell_type": "markdown",
   "metadata": {},
   "source": [
    "### Solution 4 : avec `endesive`\n",
    "La librairie `endesive` permet de vérifier la signature d'un email. Elle est basée sur les\n",
    "librairies `asn1crypto`, `certvalidator` et `cryptography`."
   ]
  },
  {
   "cell_type": "code",
   "execution_count": 31,
   "metadata": {},
   "outputs": [
    {
     "name": "stdout",
     "output_type": "stream",
     "text": [
      "********** failed certificate verification: Unable to build a validation path for the certificate \"Email Address: demo1@trisoft.com.pl\" - no issuer matching \"Common Name: CA\" was found\n",
      "cert.issuer: OrderedDict([('common_name', 'CA')])\n",
      "cert.subject: OrderedDict([('email_address', 'demo1@trisoft.com.pl')])\n"
     ]
    },
    {
     "data": {
      "text/plain": [
       "(True, True, False)"
      ]
     },
     "execution_count": 31,
     "metadata": {},
     "output_type": "execute_result"
    }
   ],
   "source": [
    "endesive_email.verify(signed.decode())"
   ]
  },
  {
   "cell_type": "code",
   "execution_count": null,
   "metadata": {},
   "outputs": [],
   "source": []
  }
 ],
 "metadata": {
  "kernelspec": {
   "display_name": "decrypt-emails-py311",
   "language": "python",
   "name": "python3"
  },
  "language_info": {
   "codemirror_mode": {
    "name": "ipython",
    "version": 3
   },
   "file_extension": ".py",
   "mimetype": "text/x-python",
   "name": "python",
   "nbconvert_exporter": "python",
   "pygments_lexer": "ipython3",
   "version": "3.11.10"
  }
 },
 "nbformat": 4,
 "nbformat_minor": 2
}
