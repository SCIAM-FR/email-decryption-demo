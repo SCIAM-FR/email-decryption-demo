{
 "cells": [
  {
   "cell_type": "markdown",
   "metadata": {},
   "source": [
    "# Déchiffrage d'Emails avec Python\n",
    "Dans cette Tech Review, nous présentons les différentes solutions étudiées pour déchiffrer des\n",
    "emails chiffrés avec Python.  "
   ]
  },
  {
   "cell_type": "markdown",
   "metadata": {},
   "source": [
    "## Import des librairies\n"
   ]
  },
  {
   "cell_type": "code",
   "execution_count": 1,
   "metadata": {},
   "outputs": [],
   "source": [
    "import subprocess\n",
    "from pprint import pprint\n",
    "\n",
    "from asn1crypto import cms\n",
    "from cryptography.hazmat.primitives import padding\n",
    "from cryptography.hazmat.primitives.asymmetric import padding as asymmetric_padding\n",
    "from cryptography.hazmat.primitives.ciphers import Cipher, algorithms, modes\n",
    "from cryptography.hazmat.primitives.serialization import Encoding, load_pem_private_key\n",
    "from cryptography.hazmat.primitives.serialization.pkcs7 import (\n",
    "    PKCS7EnvelopeBuilder,\n",
    "    PKCS7Options,\n",
    ")\n",
    "from cryptography.x509 import load_pem_x509_certificate"
   ]
  },
  {
   "cell_type": "markdown",
   "metadata": {},
   "source": [
    "## Lecture du certificat X.509"
   ]
  },
  {
   "cell_type": "code",
   "execution_count": 2,
   "metadata": {},
   "outputs": [],
   "source": [
    "# Clé publique : certificat RSA\n",
    "with open(\"vectors/rsa_ca.pem\", \"rb\") as file:\n",
    "    certificate = load_pem_x509_certificate(file.read())"
   ]
  },
  {
   "cell_type": "code",
   "execution_count": 3,
   "metadata": {},
   "outputs": [],
   "source": [
    "# Clé privée : RSA\n",
    "with open(\"vectors/rsa_key.pem\", \"rb\") as file:\n",
    "    private_key = load_pem_private_key(file.read(), password=None)"
   ]
  },
  {
   "cell_type": "markdown",
   "metadata": {},
   "source": [
    "## Chiffrement d'un email"
   ]
  },
  {
   "cell_type": "code",
   "execution_count": 27,
   "metadata": {},
   "outputs": [],
   "source": [
    "# Écriture d'un message non-chiffré\n",
    "message = b\"Hello world!\\n\"\n",
    "with open(\"vectors/msg.txt\", \"wb\") as file:\n",
    "    file.write(message)"
   ]
  },
  {
   "cell_type": "markdown",
   "metadata": {},
   "source": [
    "### Avec `openssl`"
   ]
  },
  {
   "cell_type": "code",
   "execution_count": null,
   "metadata": {},
   "outputs": [],
   "source": [
    "# SMIME : ancienne version\n",
    "instructions = [\n",
    "    \"openssl\",\n",
    "    \"smime\",\n",
    "    \"-encrypt\",\n",
    "    \"-aes-128-cbc\",\n",
    "    \"-in\",\n",
    "    \"vectors/msg.txt\",\n",
    "    \"-out\",\n",
    "    \"vectors/enveloped.der\",\n",
    "    \"-outform\",\n",
    "    \"der\",\n",
    "    \"vectors/rsa_ca.pem\",\n",
    "]\n",
    "smime_encryption_result = subprocess.run(instructions, check=True, capture_output=True)"
   ]
  },
  {
   "cell_type": "code",
   "execution_count": 7,
   "metadata": {},
   "outputs": [],
   "source": [
    "# CMS : nouvelle version\n",
    "instructions = [\n",
    "    \"openssl\",\n",
    "    \"cms\",\n",
    "    \"-encrypt\",\n",
    "    \"-in\",\n",
    "    \"vectors/msg.txt\",\n",
    "    \"-out\",\n",
    "    \"vectors/enveloped-rsa-oaep.pem\",\n",
    "    \"-outform\",\n",
    "    \"PEM\",\n",
    "    \"-aes-128-cbc\",\n",
    "    \"-recip\",\n",
    "    \"vectors/rsa_ca.pem\",\n",
    "    \"-keyopt\",\n",
    "    \"rsa_padding_mode:oaep\",\n",
    "]\n",
    "cms_encryption_result = subprocess.run(instructions, check=True)"
   ]
  },
  {
   "cell_type": "markdown",
   "metadata": {},
   "source": [
    "### Avec `cryptography`\n",
    "Les fonctionnalités de chiffrage d'email sont disponibles dans la librairie `cryptography` depuis\n",
    "début 2024. "
   ]
  },
  {
   "cell_type": "code",
   "execution_count": 8,
   "metadata": {},
   "outputs": [],
   "source": [
    "# Prepare the envelope builder\n",
    "envelope_builder = PKCS7EnvelopeBuilder()\n",
    "envelope_builder = envelope_builder.add_recipient(certificate)\n",
    "envelope_builder = envelope_builder.set_data(message)\n",
    "\n",
    "# Encrypt the data\n",
    "enveloped = envelope_builder.encrypt(Encoding.DER, [PKCS7Options.Binary])"
   ]
  },
  {
   "cell_type": "code",
   "execution_count": 9,
   "metadata": {},
   "outputs": [],
   "source": [
    "# Store the data in vectors\n",
    "with open(\"vectors/enveloped.der\", \"wb\") as file:\n",
    "    file.write(enveloped)"
   ]
  },
  {
   "cell_type": "markdown",
   "metadata": {},
   "source": [
    "## Solutions abordées"
   ]
  },
  {
   "cell_type": "markdown",
   "metadata": {},
   "source": [
    "### Solution 1: avec `openssl`"
   ]
  },
  {
   "cell_type": "markdown",
   "metadata": {},
   "source": [
    "#### Structure ASN.1"
   ]
  },
  {
   "cell_type": "code",
   "execution_count": 10,
   "metadata": {},
   "outputs": [
    {
     "name": "stdout",
     "output_type": "stream",
     "text": [
      "    0:d=0  hl=4 l= 667 cons: SEQUENCE          \n",
      "    4:d=1  hl=2 l=   9 prim: OBJECT            :pkcs7-envelopedData\n",
      "   15:d=1  hl=4 l= 652 cons: cont [ 0 ]        \n",
      "   19:d=2  hl=4 l= 648 cons: SEQUENCE          \n",
      "   23:d=3  hl=2 l=   1 prim: INTEGER           :00\n",
      "   26:d=3  hl=4 l= 579 cons: SET               \n",
      "   30:d=4  hl=4 l= 575 cons: SEQUENCE          \n",
      "   34:d=5  hl=2 l=   1 prim: INTEGER           :00\n",
      "   37:d=5  hl=2 l=  39 cons: SEQUENCE          \n",
      "   39:d=6  hl=2 l=  26 cons: SEQUENCE          \n",
      "   41:d=7  hl=2 l=  24 cons: SET               \n",
      "   43:d=8  hl=2 l=  22 cons: SEQUENCE          \n",
      "   45:d=9  hl=2 l=   3 prim: OBJECT            :commonName\n",
      "   50:d=9  hl=2 l=  15 prim: UTF8STRING        :cryptography CA\n",
      "   67:d=6  hl=2 l=   9 prim: INTEGER           :E712D3A0A56ED6C9\n",
      "   78:d=5  hl=2 l=  13 cons: SEQUENCE          \n",
      "   80:d=6  hl=2 l=   9 prim: OBJECT            :rsaEncryption\n",
      "   91:d=6  hl=2 l=   0 prim: NULL              \n",
      "   93:d=5  hl=4 l= 512 prim: OCTET STRING      [HEX DUMP]:08086584F1DD436CDA1FB527B243FA02A5B0105147E1E9986DF5462FE417D9D00D2642373BD2A106AE983BF3ECCAA0F9A292B4082D99C6FD8969A48DFB9D7A74EAAB34BABB0CBC947DCA306147441B59AB490FDC8D56F43E815E5E05336D5CD0CDE1948EC2C650771F865B0F3A743C9E9B2563067BBDCCED2AB4C06AA14D29D0757CF8927AE229AB213A1695F4859DBFD0E8374D41955C3C22493F6BCC440F63709CEEE28A460829612F8E1B74C2C5AA87A81255F87AF07D8C54EAC87D53870CBDD8E0E6830396D235A3FC0C131572E70D972B11FF62A61BFB913152AF5AF4EAE4707AFEDC653DC54D3BA280194E1D41262030591C261101F6D4B4D2761F91D104A6F00386626DC3B8F285FDF0F7F7E620D73B0629445C069DD1D27CE895EC2C8C6EC575CA1510215C05EF031F455F0588EF1037A56BCFA7686AE25E139A7AED71867B99D1183723AE80FB0514FAA4A160F486E8C8E43CBB7C9B20AF4F5227579A69C8016FB3D4B868EC05371BC36C95DC0C0F4A7FB67016DADBC544E06B08E8F0627A411405F294139863EFDDC8831DA9053CA5C27609D1F897D88AFB0CADEA381272897DB47EC3527835DF4BDAA88C68D62EFB9BCC3D429AB9B1E754D5D1DF8710CA1974200DAA5F1C2DF23B17C5B120B71ABBA30030BEFDA0D9DD1CCE77240D71B183FB93DCF2E93BCB6AD29564CCDE874B2FFBA106AA70DCFDA49CDFE16D\n",
      "  609:d=3  hl=2 l=  60 cons: SEQUENCE          \n",
      "  611:d=4  hl=2 l=   9 prim: OBJECT            :pkcs7-data\n",
      "  622:d=4  hl=2 l=  29 cons: SEQUENCE          \n",
      "  624:d=5  hl=2 l=   9 prim: OBJECT            :aes-128-cbc\n",
      "  635:d=5  hl=2 l=  16 prim: OCTET STRING      [HEX DUMP]:2CD7875912507DFC7E65EA7CB86C73BB\n",
      "  653:d=4  hl=2 l=  16 prim: cont [ 0 ]        \n",
      "\n"
     ]
    }
   ],
   "source": [
    "instructions = [\n",
    "    \"openssl\",\n",
    "    \"asn1parse\",\n",
    "    \"-in\",\n",
    "    \"vectors/enveloped.der\",\n",
    "    \"-inform\",\n",
    "    \"der\",\n",
    "]\n",
    "output = subprocess.run(instructions, check=True, capture_output=True)\n",
    "print(output.stdout.decode())"
   ]
  },
  {
   "cell_type": "markdown",
   "metadata": {},
   "source": [
    "#### Déchiffrement"
   ]
  },
  {
   "cell_type": "code",
   "execution_count": 4,
   "metadata": {},
   "outputs": [
    {
     "data": {
      "text/plain": [
       "'Hello, World!\\r\\n'"
      ]
     },
     "execution_count": 4,
     "metadata": {},
     "output_type": "execute_result"
    }
   ],
   "source": [
    "instructions = [\n",
    "    \"openssl\",\n",
    "    \"smime\",\n",
    "    \"-decrypt\",\n",
    "    \"-in\",\n",
    "    \"vectors/enveloped.der\",\n",
    "    \"-inkey\",\n",
    "    \"vectors/rsa_key.pem\",\n",
    "    \"-inform\",\n",
    "    \"der\",\n",
    "]\n",
    "output = subprocess.run(instructions, capture_output=True)\n",
    "output.stdout.decode()"
   ]
  },
  {
   "cell_type": "markdown",
   "metadata": {},
   "source": [
    "### Solution 2 : avec `asn1crypto`"
   ]
  },
  {
   "cell_type": "code",
   "execution_count": 5,
   "metadata": {},
   "outputs": [],
   "source": [
    "with open(\"vectors/enveloped.der\", \"rb\") as file:\n",
    "    enveloped = file.read()"
   ]
  },
  {
   "cell_type": "markdown",
   "metadata": {},
   "source": [
    "#### Structure ASN.1"
   ]
  },
  {
   "cell_type": "code",
   "execution_count": 6,
   "metadata": {},
   "outputs": [
    {
     "data": {
      "text/plain": [
       "('enveloped_data', '1.2.840.113549.1.7.3')"
      ]
     },
     "execution_count": 6,
     "metadata": {},
     "output_type": "execute_result"
    }
   ],
   "source": [
    "# Load the structure\n",
    "content_info = cms.ContentInfo.load(enveloped)\n",
    "content_type: cms.ContentType = content_info[\"content_type\"]\n",
    "enveloped_data: cms.EnvelopedData = content_info[\"content\"]\n",
    "\n",
    "# About the content type\n",
    "content_type.native, content_type.dotted"
   ]
  },
  {
   "cell_type": "code",
   "execution_count": 7,
   "metadata": {},
   "outputs": [],
   "source": [
    "# Nested ordered dict to dict\n",
    "def ordered_dict_to_dict(ordered_dict):\n",
    "    return {\n",
    "        key: ordered_dict_to_dict(value) if isinstance(value, dict) else value\n",
    "        for key, value in ordered_dict.items()\n",
    "    }"
   ]
  },
  {
   "cell_type": "code",
   "execution_count": 8,
   "metadata": {},
   "outputs": [
    {
     "name": "stdout",
     "output_type": "stream",
     "text": [
      "Version: v0\n",
      "\n",
      "Recipient 0:\n",
      "{'encrypted_key': b\"\\x08\\x08e\\x84\\xf1\\xddCl\\xda\\x1f\\xb5'\\xb2C\\xfa\\x02\"\n",
      "                  b'\\xa5\\xb0\\x10QG\\xe1\\xe9\\x98m\\xf5F/\\xe4\\x17\\xd9\\xd0\\r&B7'\n",
      "                  b';\\xd2\\xa1\\x06\\xae\\x98;\\xf3\\xec\\xca\\xa0\\xf9\\xa2\\x92\\xb4\\x08'\n",
      "                  b'-\\x99\\xc6\\xfd\\x89i\\xa4\\x8d\\xfb\\x9dzt\\xea\\xab4\\xba'\n",
      "                  b'\\xbb\\x0c\\xbc\\x94}\\xca0aGD\\x1bY\\xabI\\x0f\\xdc\\x8dV\\xf4>'\n",
      "                  b'\\x81^^\\x053m\\\\\\xd0\\xcd\\xe1\\x94\\x8e\\xc2\\xc6Pw\\x1f\\x86[\\x0f'\n",
      "                  b':t<\\x9e\\x9b%c\\x06{\\xbd\\xcc\\xed*\\xb4\\xc0j\\xa1M)\\xd0'\n",
      "                  b'u|\\xf8\\x92z\\xe2)\\xab!:\\x16\\x95\\xf4\\x85\\x9d\\xbf\\xd0\\xe87M'\n",
      "                  b'A\\x95\\\\<\"I?k\\xccD\\x0fcp\\x9c\\xee\\xe2\\x8aF\\x08)a/\\x8e\\x1b'\n",
      "                  b't\\xc2\\xc5\\xaa\\x87\\xa8\\x12U\\xf8z\\xf0}\\x8cT\\xea\\xc8}S\\x87\\x0c'\n",
      "                  b'\\xbd\\xd8\\xe0\\xe6\\x83\\x03\\x96\\xd25\\xa3\\xfc\\x0c\\x13\\x15r\\xe7'\n",
      "                  b'\\r\\x97+\\x11\\xffb\\xa6\\x1b\\xfb\\x911R\\xafZ\\xf4\\xea\\xe4pz\\xfe'\n",
      "                  b'\\xdce=\\xc5M;\\xa2\\x80\\x19N\\x1dA& 0Y\\x1c&\\x11\\x01'\n",
      "                  b'\\xf6\\xd4\\xb4\\xd2v\\x1f\\x91\\xd1\\x04\\xa6\\xf0\\x03\\x86bm\\xc3'\n",
      "                  b'\\xb8\\xf2\\x85\\xfd\\xf0\\xf7\\xf7\\xe6 \\xd7;\\x06)D\\\\\\x06'\n",
      "                  b'\\x9d\\xd1\\xd2|\\xe8\\x95\\xec,\\x8cn\\xc5u\\xca\\x15\\x10!'\n",
      "                  b'\\\\\\x05\\xef\\x03\\x1fE_\\x05\\x88\\xef\\x107\\xa5k\\xcf\\xa7hj\\xe2^'\n",
      "                  b'\\x13\\x9az\\xedq\\x86{\\x99\\xd1\\x187#\\xae\\x80\\xfb\\x05'\n",
      "                  b\"\\x14\\xfa\\xa4\\xa1`\\xf4\\x86\\xe8\\xc8\\xe4<\\xbb|\\x9b \\xafOR'W\"\n",
      "                  b'\\x9ai\\xc8\\x01o\\xb3\\xd4\\xb8h\\xec\\x057\\x1b\\xc3l\\x95'\n",
      "                  b'\\xdc\\x0c\\x0fJ\\x7f\\xb6p\\x16\\xda\\xdb\\xc5D\\xe0k\\x08\\xe8\\xf0bzA'\n",
      "                  b'\\x14\\x05\\xf2\\x94\\x13\\x98c\\xef\\xdd\\xc8\\x83\\x1d\\xa9\\x05<\\xa5'\n",
      "                  b'\\xc2v\\t\\xd1\\xf8\\x97\\xd8\\x8a\\xfb\\x0c\\xad\\xea8\\x12r\\x89'\n",
      "                  b'}\\xb4~\\xc3Rx5\\xdfK\\xda\\xa8\\x8ch\\xd6.\\xfb\\x9b\\xcc=B'\n",
      "                  b'\\x9a\\xb9\\xb1\\xe7T\\xd5\\xd1\\xdf\\x87\\x10\\xca\\x19t \\r\\xaa'\n",
      "                  b'_\\x1c-\\xf2;\\x17\\xc5\\xb1 \\xb7\\x1a\\xbb\\xa3\\x000\\xbe'\n",
      "                  b'\\xfd\\xa0\\xd9\\xdd\\x1c\\xcew$\\rq\\xb1\\x83\\xfb\\x93\\xdc\\xf2'\n",
      "                  b'\\xe9;\\xcbj\\xd2\\x95d\\xcc\\xde\\x87K/\\xfb\\xa1\\x06\\xaa'\n",
      "                  b'p\\xdc\\xfd\\xa4\\x9c\\xdf\\xe1m',\n",
      " 'key_encryption_algorithm': {'algorithm': 'rsaes_pkcs1v15',\n",
      "                              'parameters': None},\n",
      " 'rid': {'issuer': {'common_name': 'cryptography CA'},\n",
      "         'serial_number': 16650603459265877705},\n",
      " 'version': 'v0'}\n",
      "\n",
      "Encrypted content info:\n",
      "{'content_encryption_algorithm': {'algorithm': 'aes128_cbc',\n",
      "                                  'parameters': b',\\xd7\\x87Y\\x12P}\\xfc~e\\xea|'\n",
      "                                                b'\\xb8ls\\xbb'},\n",
      " 'content_type': 'data',\n",
      " 'encrypted_content': b'[tN\\xcb\\xdd]\\x0b\\xa2\\xa2\\x98T\\xf8[t_`'}\n"
     ]
    }
   ],
   "source": [
    "# About the enveloped data\n",
    "# -- Version\n",
    "version: cms.CMSVersion = enveloped_data[\"version\"]\n",
    "print(\"Version:\", version.native)\n",
    "\n",
    "# -- Originator info\n",
    "originator_info: cms.OriginatorInfo = enveloped_data[\"originator_info\"]\n",
    "\n",
    "# -- Recipient infos\n",
    "recipient_infos: cms.RecipientInfos = enveloped_data[\"recipient_infos\"]\n",
    "for i, recipient_info in enumerate(recipient_infos):\n",
    "    print(f\"\\nRecipient {i}:\")\n",
    "    pprint(ordered_dict_to_dict(recipient_info.native))\n",
    "\n",
    "# -- Encrypted content info\n",
    "encrypted_content_info: cms.EncryptedContentInfo = enveloped_data[\"encrypted_content_info\"]\n",
    "print(\"\\nEncrypted content info:\")\n",
    "pprint(ordered_dict_to_dict(encrypted_content_info.native))"
   ]
  },
  {
   "cell_type": "markdown",
   "metadata": {},
   "source": [
    "#### Déchiffrement\n",
    "Merci aux liens : \n",
    "- https://www.askpython.com/python/examples/implementing-aes-with-padding \n",
    "- https://stackoverflow.com/questions/44662262"
   ]
  },
  {
   "cell_type": "code",
   "execution_count": 9,
   "metadata": {},
   "outputs": [
    {
     "name": "stdout",
     "output_type": "stream",
     "text": [
      "Serial number: 16650603459265877705\n",
      "Encrypted key size: 512\n",
      "Decrypted key size: 16\n"
     ]
    }
   ],
   "source": [
    "# Decrypt the keys of recipient information, if possible\n",
    "decrypted_key = None\n",
    "for recipient_info in recipient_infos.native:\n",
    "    serial_number = recipient_info[\"rid\"][\"serial_number\"]\n",
    "    if serial_number == certificate.serial_number:\n",
    "        print(\"Serial number:\", recipient_info[\"rid\"][\"serial_number\"])\n",
    "        print(\"Encrypted key size:\", len(recipient_info[\"encrypted_key\"]))\n",
    "        decrypted_key = private_key.decrypt(\n",
    "            recipient_info[\"encrypted_key\"], asymmetric_padding.PKCS1v15()\n",
    "        )\n",
    "        print(\"Decrypted key size:\", len(decrypted_key))\n",
    "        break"
   ]
  },
  {
   "cell_type": "code",
   "execution_count": 24,
   "metadata": {},
   "outputs": [
    {
     "name": "stdout",
     "output_type": "stream",
     "text": [
      "Algorithm: aes192_cbc\n",
      "Parameters: b'\\xab\\x81!Bn\\x96Ca;\\xd3v\\x8c\\xd6U3\\x84'\n",
      "Parameters size: 16\n",
      "Encrypted content size: 16\n"
     ]
    }
   ],
   "source": [
    "# Check sizes of content\n",
    "encrypted = encrypted_content_info.native\n",
    "print(\"Algorithm:\", encrypted[\"content_encryption_algorithm\"][\"algorithm\"])\n",
    "print(\"Parameters:\", encrypted[\"content_encryption_algorithm\"][\"parameters\"])\n",
    "print(\"Parameters size:\", len(encrypted[\"content_encryption_algorithm\"][\"parameters\"]))\n",
    "print(\"Encrypted content size:\", len(encrypted[\"encrypted_content\"]))"
   ]
  },
  {
   "cell_type": "code",
   "execution_count": 25,
   "metadata": {},
   "outputs": [],
   "source": [
    "# Decrypt the content (AES 128 CBC)\n",
    "def decrypt(ciphertext, key, initialization_vector) -> str:\n",
    "    cipher = Cipher(algorithms.AES(key), modes.CBC(initialization_vector))\n",
    "    decryptor = cipher.decryptor()\n",
    "    padded_data = decryptor.update(ciphertext) + decryptor.finalize()\n",
    "    unpadder = padding.PKCS7(len(key) * 8).unpadder()\n",
    "    plaintext = unpadder.update(padded_data) + unpadder.finalize()\n",
    "\n",
    "    return plaintext.decode()"
   ]
  },
  {
   "cell_type": "code",
   "execution_count": 26,
   "metadata": {},
   "outputs": [
    {
     "name": "stdout",
     "output_type": "stream",
     "text": [
      "Decrypted content: Hello, World!\n",
      "\n"
     ]
    }
   ],
   "source": [
    "decrypted_content = decrypt(\n",
    "    encrypted[\"encrypted_content\"],\n",
    "    decrypted_key,\n",
    "    encrypted[\"content_encryption_algorithm\"][\"parameters\"],\n",
    ")\n",
    "print(\"Decrypted content:\", decrypted_content)"
   ]
  },
  {
   "cell_type": "markdown",
   "metadata": {},
   "source": [
    "### Solution 3 : avec `cryptography` !\n",
    "Nous avons ouvert une Pull Request pour ajouter la fonctionnalité de déchiffrement d'email dans la\n",
    "librairie `cryptography`. Le lien vers la PR est\n",
    "[ici](https://github.com/pyca/cryptography/pull/11555).\n",
    "\n",
    "Cette nouvelle fonctionnalité sera bientôt disponible entre fin 2224 et début 2025."
   ]
  },
  {
   "cell_type": "markdown",
   "metadata": {},
   "source": []
  }
 ],
 "metadata": {
  "kernelspec": {
   "display_name": "decrypt-emails-py311",
   "language": "python",
   "name": "python3"
  },
  "language_info": {
   "codemirror_mode": {
    "name": "ipython",
    "version": 3
   },
   "file_extension": ".py",
   "mimetype": "text/x-python",
   "name": "python",
   "nbconvert_exporter": "python",
   "pygments_lexer": "ipython3",
   "version": "3.11.10"
  }
 },
 "nbformat": 4,
 "nbformat_minor": 2
}
